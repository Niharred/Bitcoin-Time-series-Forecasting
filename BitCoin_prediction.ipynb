{
  "cells": [
    {
      "cell_type": "code",
      "execution_count": null,
      "metadata": {
        "colab": {
          "base_uri": "https://localhost:8080/"
        },
        "id": "07ooQ3lx79U3",
        "outputId": "e6f33fce-df5f-40f9-972e-93fe9b544053"
      },
      "outputs": [
        {
          "name": "stdout",
          "output_type": "stream",
          "text": [
            "Collecting yf\n",
            "  Downloading yf-0.0.4-py3-none-any.whl (8.9 kB)\n",
            "\u001b[31mERROR: Operation cancelled by user\u001b[0m\u001b[31m\n",
            "\u001b[0m"
          ]
        }
      ],
      "source": [
        "pip install yf"
      ]
    },
    {
      "cell_type": "markdown",
      "metadata": {
        "id": "rnDJXmNwAvQW"
      },
      "source": [
        "### *using yfinance library (has data from yahoo finance API) to fetch data *"
      ]
    },
    {
      "cell_type": "code",
      "execution_count": 1,
      "metadata": {
        "id": "k1yLKC2u8LQj"
      },
      "outputs": [],
      "source": [
        "import yfinance as yf\n",
        "import pandas as pd\n",
        "import torch.nn as nn\n",
        "import numpy as np\n",
        "import torch.optim as optim\n",
        "import torch.utils.data as data\n",
        "import matplotlib.pyplot as plt\n",
        "import torch\n",
        "from torch.utils.data import DataLoader, TensorDataset\n",
        "from sklearn.model_selection import GridSearchCV\n"
      ]
    },
    {
      "cell_type": "code",
      "execution_count": 2,
      "metadata": {
        "colab": {
          "base_uri": "https://localhost:8080/"
        },
        "id": "Q53z1GR58WOF",
        "outputId": "d1047f7c-b7cc-4bb6-b75d-f25295ad0b09"
      },
      "outputs": [
        {
          "name": "stdout",
          "output_type": "stream",
          "text": [
            "\r[*********************100%%**********************]  1 of 1 completed\n"
          ]
        }
      ],
      "source": [
        "df = yf.download('BTC-USD')"
      ]
    },
    {
      "cell_type": "code",
      "execution_count": null,
      "metadata": {
        "colab": {
          "base_uri": "https://localhost:8080/",
          "height": 455
        },
        "id": "K4GWPyhD8ffD",
        "outputId": "061a90b1-6e99-4c6d-fa57-487cf9502427"
      },
      "outputs": [
        {
          "data": {
            "text/html": [
              "\n",
              "  <div id=\"df-c57af84e-802a-4621-b111-0200d1a609a1\" class=\"colab-df-container\">\n",
              "    <div>\n",
              "<style scoped>\n",
              "    .dataframe tbody tr th:only-of-type {\n",
              "        vertical-align: middle;\n",
              "    }\n",
              "\n",
              "    .dataframe tbody tr th {\n",
              "        vertical-align: top;\n",
              "    }\n",
              "\n",
              "    .dataframe thead th {\n",
              "        text-align: right;\n",
              "    }\n",
              "</style>\n",
              "<table border=\"1\" class=\"dataframe\">\n",
              "  <thead>\n",
              "    <tr style=\"text-align: right;\">\n",
              "      <th></th>\n",
              "      <th>Open</th>\n",
              "      <th>High</th>\n",
              "      <th>Low</th>\n",
              "      <th>Close</th>\n",
              "      <th>Adj Close</th>\n",
              "      <th>Volume</th>\n",
              "    </tr>\n",
              "    <tr>\n",
              "      <th>Date</th>\n",
              "      <th></th>\n",
              "      <th></th>\n",
              "      <th></th>\n",
              "      <th></th>\n",
              "      <th></th>\n",
              "      <th></th>\n",
              "    </tr>\n",
              "  </thead>\n",
              "  <tbody>\n",
              "    <tr>\n",
              "      <th>2014-09-17</th>\n",
              "      <td>465.864014</td>\n",
              "      <td>468.174011</td>\n",
              "      <td>452.421997</td>\n",
              "      <td>457.334015</td>\n",
              "      <td>457.334015</td>\n",
              "      <td>21056800</td>\n",
              "    </tr>\n",
              "    <tr>\n",
              "      <th>2014-09-18</th>\n",
              "      <td>456.859985</td>\n",
              "      <td>456.859985</td>\n",
              "      <td>413.104004</td>\n",
              "      <td>424.440002</td>\n",
              "      <td>424.440002</td>\n",
              "      <td>34483200</td>\n",
              "    </tr>\n",
              "    <tr>\n",
              "      <th>2014-09-19</th>\n",
              "      <td>424.102997</td>\n",
              "      <td>427.834991</td>\n",
              "      <td>384.532013</td>\n",
              "      <td>394.795990</td>\n",
              "      <td>394.795990</td>\n",
              "      <td>37919700</td>\n",
              "    </tr>\n",
              "    <tr>\n",
              "      <th>2014-09-20</th>\n",
              "      <td>394.673004</td>\n",
              "      <td>423.295990</td>\n",
              "      <td>389.882996</td>\n",
              "      <td>408.903992</td>\n",
              "      <td>408.903992</td>\n",
              "      <td>36863600</td>\n",
              "    </tr>\n",
              "    <tr>\n",
              "      <th>2014-09-21</th>\n",
              "      <td>408.084991</td>\n",
              "      <td>412.425995</td>\n",
              "      <td>393.181000</td>\n",
              "      <td>398.821014</td>\n",
              "      <td>398.821014</td>\n",
              "      <td>26580100</td>\n",
              "    </tr>\n",
              "    <tr>\n",
              "      <th>...</th>\n",
              "      <td>...</td>\n",
              "      <td>...</td>\n",
              "      <td>...</td>\n",
              "      <td>...</td>\n",
              "      <td>...</td>\n",
              "      <td>...</td>\n",
              "    </tr>\n",
              "    <tr>\n",
              "      <th>2023-11-04</th>\n",
              "      <td>34736.324219</td>\n",
              "      <td>35256.031250</td>\n",
              "      <td>34616.691406</td>\n",
              "      <td>35082.195312</td>\n",
              "      <td>35082.195312</td>\n",
              "      <td>9561294264</td>\n",
              "    </tr>\n",
              "    <tr>\n",
              "      <th>2023-11-05</th>\n",
              "      <td>35090.011719</td>\n",
              "      <td>35340.339844</td>\n",
              "      <td>34594.242188</td>\n",
              "      <td>35049.355469</td>\n",
              "      <td>35049.355469</td>\n",
              "      <td>12412743996</td>\n",
              "    </tr>\n",
              "    <tr>\n",
              "      <th>2023-11-06</th>\n",
              "      <td>35044.789062</td>\n",
              "      <td>35286.027344</td>\n",
              "      <td>34765.363281</td>\n",
              "      <td>35037.371094</td>\n",
              "      <td>35037.371094</td>\n",
              "      <td>12693436420</td>\n",
              "    </tr>\n",
              "    <tr>\n",
              "      <th>2023-11-07</th>\n",
              "      <td>35047.792969</td>\n",
              "      <td>35892.417969</td>\n",
              "      <td>34545.816406</td>\n",
              "      <td>35443.562500</td>\n",
              "      <td>35443.562500</td>\n",
              "      <td>18834737789</td>\n",
              "    </tr>\n",
              "    <tr>\n",
              "      <th>2023-11-08</th>\n",
              "      <td>35419.476562</td>\n",
              "      <td>35879.144531</td>\n",
              "      <td>35159.812500</td>\n",
              "      <td>35733.835938</td>\n",
              "      <td>35733.835938</td>\n",
              "      <td>16500540416</td>\n",
              "    </tr>\n",
              "  </tbody>\n",
              "</table>\n",
              "<p>3340 rows × 6 columns</p>\n",
              "</div>\n",
              "    <div class=\"colab-df-buttons\">\n",
              "\n",
              "  <div class=\"colab-df-container\">\n",
              "    <button class=\"colab-df-convert\" onclick=\"convertToInteractive('df-c57af84e-802a-4621-b111-0200d1a609a1')\"\n",
              "            title=\"Convert this dataframe to an interactive table.\"\n",
              "            style=\"display:none;\">\n",
              "\n",
              "  <svg xmlns=\"http://www.w3.org/2000/svg\" height=\"24px\" viewBox=\"0 -960 960 960\">\n",
              "    <path d=\"M120-120v-720h720v720H120Zm60-500h600v-160H180v160Zm220 220h160v-160H400v160Zm0 220h160v-160H400v160ZM180-400h160v-160H180v160Zm440 0h160v-160H620v160ZM180-180h160v-160H180v160Zm440 0h160v-160H620v160Z\"/>\n",
              "  </svg>\n",
              "    </button>\n",
              "\n",
              "  <style>\n",
              "    .colab-df-container {\n",
              "      display:flex;\n",
              "      gap: 12px;\n",
              "    }\n",
              "\n",
              "    .colab-df-convert {\n",
              "      background-color: #E8F0FE;\n",
              "      border: none;\n",
              "      border-radius: 50%;\n",
              "      cursor: pointer;\n",
              "      display: none;\n",
              "      fill: #1967D2;\n",
              "      height: 32px;\n",
              "      padding: 0 0 0 0;\n",
              "      width: 32px;\n",
              "    }\n",
              "\n",
              "    .colab-df-convert:hover {\n",
              "      background-color: #E2EBFA;\n",
              "      box-shadow: 0px 1px 2px rgba(60, 64, 67, 0.3), 0px 1px 3px 1px rgba(60, 64, 67, 0.15);\n",
              "      fill: #174EA6;\n",
              "    }\n",
              "\n",
              "    .colab-df-buttons div {\n",
              "      margin-bottom: 4px;\n",
              "    }\n",
              "\n",
              "    [theme=dark] .colab-df-convert {\n",
              "      background-color: #3B4455;\n",
              "      fill: #D2E3FC;\n",
              "    }\n",
              "\n",
              "    [theme=dark] .colab-df-convert:hover {\n",
              "      background-color: #434B5C;\n",
              "      box-shadow: 0px 1px 3px 1px rgba(0, 0, 0, 0.15);\n",
              "      filter: drop-shadow(0px 1px 2px rgba(0, 0, 0, 0.3));\n",
              "      fill: #FFFFFF;\n",
              "    }\n",
              "  </style>\n",
              "\n",
              "    <script>\n",
              "      const buttonEl =\n",
              "        document.querySelector('#df-c57af84e-802a-4621-b111-0200d1a609a1 button.colab-df-convert');\n",
              "      buttonEl.style.display =\n",
              "        google.colab.kernel.accessAllowed ? 'block' : 'none';\n",
              "\n",
              "      async function convertToInteractive(key) {\n",
              "        const element = document.querySelector('#df-c57af84e-802a-4621-b111-0200d1a609a1');\n",
              "        const dataTable =\n",
              "          await google.colab.kernel.invokeFunction('convertToInteractive',\n",
              "                                                    [key], {});\n",
              "        if (!dataTable) return;\n",
              "\n",
              "        const docLinkHtml = 'Like what you see? Visit the ' +\n",
              "          '<a target=\"_blank\" href=https://colab.research.google.com/notebooks/data_table.ipynb>data table notebook</a>'\n",
              "          + ' to learn more about interactive tables.';\n",
              "        element.innerHTML = '';\n",
              "        dataTable['output_type'] = 'display_data';\n",
              "        await google.colab.output.renderOutput(dataTable, element);\n",
              "        const docLink = document.createElement('div');\n",
              "        docLink.innerHTML = docLinkHtml;\n",
              "        element.appendChild(docLink);\n",
              "      }\n",
              "    </script>\n",
              "  </div>\n",
              "\n",
              "\n",
              "<div id=\"df-63684b09-cc11-49c7-bcba-524ad0f9fb51\">\n",
              "  <button class=\"colab-df-quickchart\" onclick=\"quickchart('df-63684b09-cc11-49c7-bcba-524ad0f9fb51')\"\n",
              "            title=\"Suggest charts\"\n",
              "            style=\"display:none;\">\n",
              "\n",
              "<svg xmlns=\"http://www.w3.org/2000/svg\" height=\"24px\"viewBox=\"0 0 24 24\"\n",
              "     width=\"24px\">\n",
              "    <g>\n",
              "        <path d=\"M19 3H5c-1.1 0-2 .9-2 2v14c0 1.1.9 2 2 2h14c1.1 0 2-.9 2-2V5c0-1.1-.9-2-2-2zM9 17H7v-7h2v7zm4 0h-2V7h2v10zm4 0h-2v-4h2v4z\"/>\n",
              "    </g>\n",
              "</svg>\n",
              "  </button>\n",
              "\n",
              "<style>\n",
              "  .colab-df-quickchart {\n",
              "      --bg-color: #E8F0FE;\n",
              "      --fill-color: #1967D2;\n",
              "      --hover-bg-color: #E2EBFA;\n",
              "      --hover-fill-color: #174EA6;\n",
              "      --disabled-fill-color: #AAA;\n",
              "      --disabled-bg-color: #DDD;\n",
              "  }\n",
              "\n",
              "  [theme=dark] .colab-df-quickchart {\n",
              "      --bg-color: #3B4455;\n",
              "      --fill-color: #D2E3FC;\n",
              "      --hover-bg-color: #434B5C;\n",
              "      --hover-fill-color: #FFFFFF;\n",
              "      --disabled-bg-color: #3B4455;\n",
              "      --disabled-fill-color: #666;\n",
              "  }\n",
              "\n",
              "  .colab-df-quickchart {\n",
              "    background-color: var(--bg-color);\n",
              "    border: none;\n",
              "    border-radius: 50%;\n",
              "    cursor: pointer;\n",
              "    display: none;\n",
              "    fill: var(--fill-color);\n",
              "    height: 32px;\n",
              "    padding: 0;\n",
              "    width: 32px;\n",
              "  }\n",
              "\n",
              "  .colab-df-quickchart:hover {\n",
              "    background-color: var(--hover-bg-color);\n",
              "    box-shadow: 0 1px 2px rgba(60, 64, 67, 0.3), 0 1px 3px 1px rgba(60, 64, 67, 0.15);\n",
              "    fill: var(--button-hover-fill-color);\n",
              "  }\n",
              "\n",
              "  .colab-df-quickchart-complete:disabled,\n",
              "  .colab-df-quickchart-complete:disabled:hover {\n",
              "    background-color: var(--disabled-bg-color);\n",
              "    fill: var(--disabled-fill-color);\n",
              "    box-shadow: none;\n",
              "  }\n",
              "\n",
              "  .colab-df-spinner {\n",
              "    border: 2px solid var(--fill-color);\n",
              "    border-color: transparent;\n",
              "    border-bottom-color: var(--fill-color);\n",
              "    animation:\n",
              "      spin 1s steps(1) infinite;\n",
              "  }\n",
              "\n",
              "  @keyframes spin {\n",
              "    0% {\n",
              "      border-color: transparent;\n",
              "      border-bottom-color: var(--fill-color);\n",
              "      border-left-color: var(--fill-color);\n",
              "    }\n",
              "    20% {\n",
              "      border-color: transparent;\n",
              "      border-left-color: var(--fill-color);\n",
              "      border-top-color: var(--fill-color);\n",
              "    }\n",
              "    30% {\n",
              "      border-color: transparent;\n",
              "      border-left-color: var(--fill-color);\n",
              "      border-top-color: var(--fill-color);\n",
              "      border-right-color: var(--fill-color);\n",
              "    }\n",
              "    40% {\n",
              "      border-color: transparent;\n",
              "      border-right-color: var(--fill-color);\n",
              "      border-top-color: var(--fill-color);\n",
              "    }\n",
              "    60% {\n",
              "      border-color: transparent;\n",
              "      border-right-color: var(--fill-color);\n",
              "    }\n",
              "    80% {\n",
              "      border-color: transparent;\n",
              "      border-right-color: var(--fill-color);\n",
              "      border-bottom-color: var(--fill-color);\n",
              "    }\n",
              "    90% {\n",
              "      border-color: transparent;\n",
              "      border-bottom-color: var(--fill-color);\n",
              "    }\n",
              "  }\n",
              "</style>\n",
              "\n",
              "  <script>\n",
              "    async function quickchart(key) {\n",
              "      const quickchartButtonEl =\n",
              "        document.querySelector('#' + key + ' button');\n",
              "      quickchartButtonEl.disabled = true;  // To prevent multiple clicks.\n",
              "      quickchartButtonEl.classList.add('colab-df-spinner');\n",
              "      try {\n",
              "        const charts = await google.colab.kernel.invokeFunction(\n",
              "            'suggestCharts', [key], {});\n",
              "      } catch (error) {\n",
              "        console.error('Error during call to suggestCharts:', error);\n",
              "      }\n",
              "      quickchartButtonEl.classList.remove('colab-df-spinner');\n",
              "      quickchartButtonEl.classList.add('colab-df-quickchart-complete');\n",
              "    }\n",
              "    (() => {\n",
              "      let quickchartButtonEl =\n",
              "        document.querySelector('#df-63684b09-cc11-49c7-bcba-524ad0f9fb51 button');\n",
              "      quickchartButtonEl.style.display =\n",
              "        google.colab.kernel.accessAllowed ? 'block' : 'none';\n",
              "    })();\n",
              "  </script>\n",
              "</div>\n",
              "    </div>\n",
              "  </div>\n"
            ],
            "text/plain": [
              "                    Open          High           Low         Close  \\\n",
              "Date                                                                 \n",
              "2014-09-17    465.864014    468.174011    452.421997    457.334015   \n",
              "2014-09-18    456.859985    456.859985    413.104004    424.440002   \n",
              "2014-09-19    424.102997    427.834991    384.532013    394.795990   \n",
              "2014-09-20    394.673004    423.295990    389.882996    408.903992   \n",
              "2014-09-21    408.084991    412.425995    393.181000    398.821014   \n",
              "...                  ...           ...           ...           ...   \n",
              "2023-11-04  34736.324219  35256.031250  34616.691406  35082.195312   \n",
              "2023-11-05  35090.011719  35340.339844  34594.242188  35049.355469   \n",
              "2023-11-06  35044.789062  35286.027344  34765.363281  35037.371094   \n",
              "2023-11-07  35047.792969  35892.417969  34545.816406  35443.562500   \n",
              "2023-11-08  35419.476562  35879.144531  35159.812500  35733.835938   \n",
              "\n",
              "               Adj Close       Volume  \n",
              "Date                                   \n",
              "2014-09-17    457.334015     21056800  \n",
              "2014-09-18    424.440002     34483200  \n",
              "2014-09-19    394.795990     37919700  \n",
              "2014-09-20    408.903992     36863600  \n",
              "2014-09-21    398.821014     26580100  \n",
              "...                  ...          ...  \n",
              "2023-11-04  35082.195312   9561294264  \n",
              "2023-11-05  35049.355469  12412743996  \n",
              "2023-11-06  35037.371094  12693436420  \n",
              "2023-11-07  35443.562500  18834737789  \n",
              "2023-11-08  35733.835938  16500540416  \n",
              "\n",
              "[3340 rows x 6 columns]"
            ]
          },
          "execution_count": 4,
          "metadata": {},
          "output_type": "execute_result"
        }
      ],
      "source": [
        "df"
      ]
    },
    {
      "cell_type": "code",
      "execution_count": 3,
      "metadata": {
        "id": "uB3jb8ni8mMj"
      },
      "outputs": [],
      "source": [
        "import numpy as np\n",
        "import pandas as pd\n",
        "import matplotlib.pyplot as plt\n",
        "import math\n",
        "from sklearn.preprocessing import MinMaxScaler"
      ]
    },
    {
      "cell_type": "markdown",
      "metadata": {
        "id": "gOOBohYeBOWt"
      },
      "source": [
        "### filter the dataframe as we are interested only in the date and close value"
      ]
    },
    {
      "cell_type": "code",
      "execution_count": 4,
      "metadata": {
        "colab": {
          "base_uri": "https://localhost:8080/",
          "height": 206
        },
        "id": "wvhub3GaiCI9",
        "outputId": "6c572760-8832-4220-d06d-bad29cc8893d"
      },
      "outputs": [
        {
          "data": {
            "text/html": [
              "\n",
              "  <div id=\"df-16cec2a4-ae6c-46fc-8d26-57abeec3c38e\" class=\"colab-df-container\">\n",
              "    <div>\n",
              "<style scoped>\n",
              "    .dataframe tbody tr th:only-of-type {\n",
              "        vertical-align: middle;\n",
              "    }\n",
              "\n",
              "    .dataframe tbody tr th {\n",
              "        vertical-align: top;\n",
              "    }\n",
              "\n",
              "    .dataframe thead th {\n",
              "        text-align: right;\n",
              "    }\n",
              "</style>\n",
              "<table border=\"1\" class=\"dataframe\">\n",
              "  <thead>\n",
              "    <tr style=\"text-align: right;\">\n",
              "      <th></th>\n",
              "      <th>Date</th>\n",
              "      <th>Close</th>\n",
              "    </tr>\n",
              "  </thead>\n",
              "  <tbody>\n",
              "    <tr>\n",
              "      <th>0</th>\n",
              "      <td>2014-09-17</td>\n",
              "      <td>457.334015</td>\n",
              "    </tr>\n",
              "    <tr>\n",
              "      <th>1</th>\n",
              "      <td>2014-09-18</td>\n",
              "      <td>424.440002</td>\n",
              "    </tr>\n",
              "    <tr>\n",
              "      <th>2</th>\n",
              "      <td>2014-09-19</td>\n",
              "      <td>394.795990</td>\n",
              "    </tr>\n",
              "    <tr>\n",
              "      <th>3</th>\n",
              "      <td>2014-09-20</td>\n",
              "      <td>408.903992</td>\n",
              "    </tr>\n",
              "    <tr>\n",
              "      <th>4</th>\n",
              "      <td>2014-09-21</td>\n",
              "      <td>398.821014</td>\n",
              "    </tr>\n",
              "  </tbody>\n",
              "</table>\n",
              "</div>\n",
              "    <div class=\"colab-df-buttons\">\n",
              "\n",
              "  <div class=\"colab-df-container\">\n",
              "    <button class=\"colab-df-convert\" onclick=\"convertToInteractive('df-16cec2a4-ae6c-46fc-8d26-57abeec3c38e')\"\n",
              "            title=\"Convert this dataframe to an interactive table.\"\n",
              "            style=\"display:none;\">\n",
              "\n",
              "  <svg xmlns=\"http://www.w3.org/2000/svg\" height=\"24px\" viewBox=\"0 -960 960 960\">\n",
              "    <path d=\"M120-120v-720h720v720H120Zm60-500h600v-160H180v160Zm220 220h160v-160H400v160Zm0 220h160v-160H400v160ZM180-400h160v-160H180v160Zm440 0h160v-160H620v160ZM180-180h160v-160H180v160Zm440 0h160v-160H620v160Z\"/>\n",
              "  </svg>\n",
              "    </button>\n",
              "\n",
              "  <style>\n",
              "    .colab-df-container {\n",
              "      display:flex;\n",
              "      gap: 12px;\n",
              "    }\n",
              "\n",
              "    .colab-df-convert {\n",
              "      background-color: #E8F0FE;\n",
              "      border: none;\n",
              "      border-radius: 50%;\n",
              "      cursor: pointer;\n",
              "      display: none;\n",
              "      fill: #1967D2;\n",
              "      height: 32px;\n",
              "      padding: 0 0 0 0;\n",
              "      width: 32px;\n",
              "    }\n",
              "\n",
              "    .colab-df-convert:hover {\n",
              "      background-color: #E2EBFA;\n",
              "      box-shadow: 0px 1px 2px rgba(60, 64, 67, 0.3), 0px 1px 3px 1px rgba(60, 64, 67, 0.15);\n",
              "      fill: #174EA6;\n",
              "    }\n",
              "\n",
              "    .colab-df-buttons div {\n",
              "      margin-bottom: 4px;\n",
              "    }\n",
              "\n",
              "    [theme=dark] .colab-df-convert {\n",
              "      background-color: #3B4455;\n",
              "      fill: #D2E3FC;\n",
              "    }\n",
              "\n",
              "    [theme=dark] .colab-df-convert:hover {\n",
              "      background-color: #434B5C;\n",
              "      box-shadow: 0px 1px 3px 1px rgba(0, 0, 0, 0.15);\n",
              "      filter: drop-shadow(0px 1px 2px rgba(0, 0, 0, 0.3));\n",
              "      fill: #FFFFFF;\n",
              "    }\n",
              "  </style>\n",
              "\n",
              "    <script>\n",
              "      const buttonEl =\n",
              "        document.querySelector('#df-16cec2a4-ae6c-46fc-8d26-57abeec3c38e button.colab-df-convert');\n",
              "      buttonEl.style.display =\n",
              "        google.colab.kernel.accessAllowed ? 'block' : 'none';\n",
              "\n",
              "      async function convertToInteractive(key) {\n",
              "        const element = document.querySelector('#df-16cec2a4-ae6c-46fc-8d26-57abeec3c38e');\n",
              "        const dataTable =\n",
              "          await google.colab.kernel.invokeFunction('convertToInteractive',\n",
              "                                                    [key], {});\n",
              "        if (!dataTable) return;\n",
              "\n",
              "        const docLinkHtml = 'Like what you see? Visit the ' +\n",
              "          '<a target=\"_blank\" href=https://colab.research.google.com/notebooks/data_table.ipynb>data table notebook</a>'\n",
              "          + ' to learn more about interactive tables.';\n",
              "        element.innerHTML = '';\n",
              "        dataTable['output_type'] = 'display_data';\n",
              "        await google.colab.output.renderOutput(dataTable, element);\n",
              "        const docLink = document.createElement('div');\n",
              "        docLink.innerHTML = docLinkHtml;\n",
              "        element.appendChild(docLink);\n",
              "      }\n",
              "    </script>\n",
              "  </div>\n",
              "\n",
              "\n",
              "<div id=\"df-fc5737e4-fbb5-4cdd-8b55-2c797b1d29e7\">\n",
              "  <button class=\"colab-df-quickchart\" onclick=\"quickchart('df-fc5737e4-fbb5-4cdd-8b55-2c797b1d29e7')\"\n",
              "            title=\"Suggest charts\"\n",
              "            style=\"display:none;\">\n",
              "\n",
              "<svg xmlns=\"http://www.w3.org/2000/svg\" height=\"24px\"viewBox=\"0 0 24 24\"\n",
              "     width=\"24px\">\n",
              "    <g>\n",
              "        <path d=\"M19 3H5c-1.1 0-2 .9-2 2v14c0 1.1.9 2 2 2h14c1.1 0 2-.9 2-2V5c0-1.1-.9-2-2-2zM9 17H7v-7h2v7zm4 0h-2V7h2v10zm4 0h-2v-4h2v4z\"/>\n",
              "    </g>\n",
              "</svg>\n",
              "  </button>\n",
              "\n",
              "<style>\n",
              "  .colab-df-quickchart {\n",
              "      --bg-color: #E8F0FE;\n",
              "      --fill-color: #1967D2;\n",
              "      --hover-bg-color: #E2EBFA;\n",
              "      --hover-fill-color: #174EA6;\n",
              "      --disabled-fill-color: #AAA;\n",
              "      --disabled-bg-color: #DDD;\n",
              "  }\n",
              "\n",
              "  [theme=dark] .colab-df-quickchart {\n",
              "      --bg-color: #3B4455;\n",
              "      --fill-color: #D2E3FC;\n",
              "      --hover-bg-color: #434B5C;\n",
              "      --hover-fill-color: #FFFFFF;\n",
              "      --disabled-bg-color: #3B4455;\n",
              "      --disabled-fill-color: #666;\n",
              "  }\n",
              "\n",
              "  .colab-df-quickchart {\n",
              "    background-color: var(--bg-color);\n",
              "    border: none;\n",
              "    border-radius: 50%;\n",
              "    cursor: pointer;\n",
              "    display: none;\n",
              "    fill: var(--fill-color);\n",
              "    height: 32px;\n",
              "    padding: 0;\n",
              "    width: 32px;\n",
              "  }\n",
              "\n",
              "  .colab-df-quickchart:hover {\n",
              "    background-color: var(--hover-bg-color);\n",
              "    box-shadow: 0 1px 2px rgba(60, 64, 67, 0.3), 0 1px 3px 1px rgba(60, 64, 67, 0.15);\n",
              "    fill: var(--button-hover-fill-color);\n",
              "  }\n",
              "\n",
              "  .colab-df-quickchart-complete:disabled,\n",
              "  .colab-df-quickchart-complete:disabled:hover {\n",
              "    background-color: var(--disabled-bg-color);\n",
              "    fill: var(--disabled-fill-color);\n",
              "    box-shadow: none;\n",
              "  }\n",
              "\n",
              "  .colab-df-spinner {\n",
              "    border: 2px solid var(--fill-color);\n",
              "    border-color: transparent;\n",
              "    border-bottom-color: var(--fill-color);\n",
              "    animation:\n",
              "      spin 1s steps(1) infinite;\n",
              "  }\n",
              "\n",
              "  @keyframes spin {\n",
              "    0% {\n",
              "      border-color: transparent;\n",
              "      border-bottom-color: var(--fill-color);\n",
              "      border-left-color: var(--fill-color);\n",
              "    }\n",
              "    20% {\n",
              "      border-color: transparent;\n",
              "      border-left-color: var(--fill-color);\n",
              "      border-top-color: var(--fill-color);\n",
              "    }\n",
              "    30% {\n",
              "      border-color: transparent;\n",
              "      border-left-color: var(--fill-color);\n",
              "      border-top-color: var(--fill-color);\n",
              "      border-right-color: var(--fill-color);\n",
              "    }\n",
              "    40% {\n",
              "      border-color: transparent;\n",
              "      border-right-color: var(--fill-color);\n",
              "      border-top-color: var(--fill-color);\n",
              "    }\n",
              "    60% {\n",
              "      border-color: transparent;\n",
              "      border-right-color: var(--fill-color);\n",
              "    }\n",
              "    80% {\n",
              "      border-color: transparent;\n",
              "      border-right-color: var(--fill-color);\n",
              "      border-bottom-color: var(--fill-color);\n",
              "    }\n",
              "    90% {\n",
              "      border-color: transparent;\n",
              "      border-bottom-color: var(--fill-color);\n",
              "    }\n",
              "  }\n",
              "</style>\n",
              "\n",
              "  <script>\n",
              "    async function quickchart(key) {\n",
              "      const quickchartButtonEl =\n",
              "        document.querySelector('#' + key + ' button');\n",
              "      quickchartButtonEl.disabled = true;  // To prevent multiple clicks.\n",
              "      quickchartButtonEl.classList.add('colab-df-spinner');\n",
              "      try {\n",
              "        const charts = await google.colab.kernel.invokeFunction(\n",
              "            'suggestCharts', [key], {});\n",
              "      } catch (error) {\n",
              "        console.error('Error during call to suggestCharts:', error);\n",
              "      }\n",
              "      quickchartButtonEl.classList.remove('colab-df-spinner');\n",
              "      quickchartButtonEl.classList.add('colab-df-quickchart-complete');\n",
              "    }\n",
              "    (() => {\n",
              "      let quickchartButtonEl =\n",
              "        document.querySelector('#df-fc5737e4-fbb5-4cdd-8b55-2c797b1d29e7 button');\n",
              "      quickchartButtonEl.style.display =\n",
              "        google.colab.kernel.accessAllowed ? 'block' : 'none';\n",
              "    })();\n",
              "  </script>\n",
              "</div>\n",
              "    </div>\n",
              "  </div>\n"
            ],
            "text/plain": [
              "        Date       Close\n",
              "0 2014-09-17  457.334015\n",
              "1 2014-09-18  424.440002\n",
              "2 2014-09-19  394.795990\n",
              "3 2014-09-20  408.903992\n",
              "4 2014-09-21  398.821014"
            ]
          },
          "execution_count": 4,
          "metadata": {},
          "output_type": "execute_result"
        }
      ],
      "source": [
        "df.shape\n",
        "df = df.reset_index(drop=False)\n",
        "df = df[['Date','Close']]\n",
        "df.head()"
      ]
    },
    {
      "cell_type": "markdown",
      "metadata": {
        "id": "PqxzHx3UtfcF"
      },
      "source": [
        "From the data from yfinace , Bitcoin price has a wide range of values by  ensuring that all features are on a similar scale. deep learning can converge faster and perform better\n",
        "\n",
        "\n"
      ]
    },
    {
      "cell_type": "code",
      "execution_count": 5,
      "metadata": {
        "id": "_1VlJB03p4yd"
      },
      "outputs": [],
      "source": [
        "scaler = MinMaxScaler(feature_range=(0,1))\n",
        "df['Close'] = scaler.fit_transform(df['Close'].values.reshape(-1,1))"
      ]
    },
    {
      "cell_type": "code",
      "execution_count": 6,
      "metadata": {
        "colab": {
          "base_uri": "https://localhost:8080/",
          "height": 206
        },
        "id": "yQNNwcj6qs7H",
        "outputId": "948525de-4279-4e7b-8112-5d5037d0a1ba"
      },
      "outputs": [
        {
          "data": {
            "text/html": [
              "\n",
              "  <div id=\"df-dc9da445-10f4-4c76-8fed-86161345001a\" class=\"colab-df-container\">\n",
              "    <div>\n",
              "<style scoped>\n",
              "    .dataframe tbody tr th:only-of-type {\n",
              "        vertical-align: middle;\n",
              "    }\n",
              "\n",
              "    .dataframe tbody tr th {\n",
              "        vertical-align: top;\n",
              "    }\n",
              "\n",
              "    .dataframe thead th {\n",
              "        text-align: right;\n",
              "    }\n",
              "</style>\n",
              "<table border=\"1\" class=\"dataframe\">\n",
              "  <thead>\n",
              "    <tr style=\"text-align: right;\">\n",
              "      <th></th>\n",
              "      <th>Date</th>\n",
              "      <th>Close</th>\n",
              "    </tr>\n",
              "  </thead>\n",
              "  <tbody>\n",
              "    <tr>\n",
              "      <th>0</th>\n",
              "      <td>2014-09-17</td>\n",
              "      <td>0.004144</td>\n",
              "    </tr>\n",
              "    <tr>\n",
              "      <th>1</th>\n",
              "      <td>2014-09-18</td>\n",
              "      <td>0.003655</td>\n",
              "    </tr>\n",
              "    <tr>\n",
              "      <th>2</th>\n",
              "      <td>2014-09-19</td>\n",
              "      <td>0.003216</td>\n",
              "    </tr>\n",
              "    <tr>\n",
              "      <th>3</th>\n",
              "      <td>2014-09-20</td>\n",
              "      <td>0.003425</td>\n",
              "    </tr>\n",
              "    <tr>\n",
              "      <th>4</th>\n",
              "      <td>2014-09-21</td>\n",
              "      <td>0.003275</td>\n",
              "    </tr>\n",
              "  </tbody>\n",
              "</table>\n",
              "</div>\n",
              "    <div class=\"colab-df-buttons\">\n",
              "\n",
              "  <div class=\"colab-df-container\">\n",
              "    <button class=\"colab-df-convert\" onclick=\"convertToInteractive('df-dc9da445-10f4-4c76-8fed-86161345001a')\"\n",
              "            title=\"Convert this dataframe to an interactive table.\"\n",
              "            style=\"display:none;\">\n",
              "\n",
              "  <svg xmlns=\"http://www.w3.org/2000/svg\" height=\"24px\" viewBox=\"0 -960 960 960\">\n",
              "    <path d=\"M120-120v-720h720v720H120Zm60-500h600v-160H180v160Zm220 220h160v-160H400v160Zm0 220h160v-160H400v160ZM180-400h160v-160H180v160Zm440 0h160v-160H620v160ZM180-180h160v-160H180v160Zm440 0h160v-160H620v160Z\"/>\n",
              "  </svg>\n",
              "    </button>\n",
              "\n",
              "  <style>\n",
              "    .colab-df-container {\n",
              "      display:flex;\n",
              "      gap: 12px;\n",
              "    }\n",
              "\n",
              "    .colab-df-convert {\n",
              "      background-color: #E8F0FE;\n",
              "      border: none;\n",
              "      border-radius: 50%;\n",
              "      cursor: pointer;\n",
              "      display: none;\n",
              "      fill: #1967D2;\n",
              "      height: 32px;\n",
              "      padding: 0 0 0 0;\n",
              "      width: 32px;\n",
              "    }\n",
              "\n",
              "    .colab-df-convert:hover {\n",
              "      background-color: #E2EBFA;\n",
              "      box-shadow: 0px 1px 2px rgba(60, 64, 67, 0.3), 0px 1px 3px 1px rgba(60, 64, 67, 0.15);\n",
              "      fill: #174EA6;\n",
              "    }\n",
              "\n",
              "    .colab-df-buttons div {\n",
              "      margin-bottom: 4px;\n",
              "    }\n",
              "\n",
              "    [theme=dark] .colab-df-convert {\n",
              "      background-color: #3B4455;\n",
              "      fill: #D2E3FC;\n",
              "    }\n",
              "\n",
              "    [theme=dark] .colab-df-convert:hover {\n",
              "      background-color: #434B5C;\n",
              "      box-shadow: 0px 1px 3px 1px rgba(0, 0, 0, 0.15);\n",
              "      filter: drop-shadow(0px 1px 2px rgba(0, 0, 0, 0.3));\n",
              "      fill: #FFFFFF;\n",
              "    }\n",
              "  </style>\n",
              "\n",
              "    <script>\n",
              "      const buttonEl =\n",
              "        document.querySelector('#df-dc9da445-10f4-4c76-8fed-86161345001a button.colab-df-convert');\n",
              "      buttonEl.style.display =\n",
              "        google.colab.kernel.accessAllowed ? 'block' : 'none';\n",
              "\n",
              "      async function convertToInteractive(key) {\n",
              "        const element = document.querySelector('#df-dc9da445-10f4-4c76-8fed-86161345001a');\n",
              "        const dataTable =\n",
              "          await google.colab.kernel.invokeFunction('convertToInteractive',\n",
              "                                                    [key], {});\n",
              "        if (!dataTable) return;\n",
              "\n",
              "        const docLinkHtml = 'Like what you see? Visit the ' +\n",
              "          '<a target=\"_blank\" href=https://colab.research.google.com/notebooks/data_table.ipynb>data table notebook</a>'\n",
              "          + ' to learn more about interactive tables.';\n",
              "        element.innerHTML = '';\n",
              "        dataTable['output_type'] = 'display_data';\n",
              "        await google.colab.output.renderOutput(dataTable, element);\n",
              "        const docLink = document.createElement('div');\n",
              "        docLink.innerHTML = docLinkHtml;\n",
              "        element.appendChild(docLink);\n",
              "      }\n",
              "    </script>\n",
              "  </div>\n",
              "\n",
              "\n",
              "<div id=\"df-ccc314c2-f107-4698-b592-f2d6a46a818b\">\n",
              "  <button class=\"colab-df-quickchart\" onclick=\"quickchart('df-ccc314c2-f107-4698-b592-f2d6a46a818b')\"\n",
              "            title=\"Suggest charts\"\n",
              "            style=\"display:none;\">\n",
              "\n",
              "<svg xmlns=\"http://www.w3.org/2000/svg\" height=\"24px\"viewBox=\"0 0 24 24\"\n",
              "     width=\"24px\">\n",
              "    <g>\n",
              "        <path d=\"M19 3H5c-1.1 0-2 .9-2 2v14c0 1.1.9 2 2 2h14c1.1 0 2-.9 2-2V5c0-1.1-.9-2-2-2zM9 17H7v-7h2v7zm4 0h-2V7h2v10zm4 0h-2v-4h2v4z\"/>\n",
              "    </g>\n",
              "</svg>\n",
              "  </button>\n",
              "\n",
              "<style>\n",
              "  .colab-df-quickchart {\n",
              "      --bg-color: #E8F0FE;\n",
              "      --fill-color: #1967D2;\n",
              "      --hover-bg-color: #E2EBFA;\n",
              "      --hover-fill-color: #174EA6;\n",
              "      --disabled-fill-color: #AAA;\n",
              "      --disabled-bg-color: #DDD;\n",
              "  }\n",
              "\n",
              "  [theme=dark] .colab-df-quickchart {\n",
              "      --bg-color: #3B4455;\n",
              "      --fill-color: #D2E3FC;\n",
              "      --hover-bg-color: #434B5C;\n",
              "      --hover-fill-color: #FFFFFF;\n",
              "      --disabled-bg-color: #3B4455;\n",
              "      --disabled-fill-color: #666;\n",
              "  }\n",
              "\n",
              "  .colab-df-quickchart {\n",
              "    background-color: var(--bg-color);\n",
              "    border: none;\n",
              "    border-radius: 50%;\n",
              "    cursor: pointer;\n",
              "    display: none;\n",
              "    fill: var(--fill-color);\n",
              "    height: 32px;\n",
              "    padding: 0;\n",
              "    width: 32px;\n",
              "  }\n",
              "\n",
              "  .colab-df-quickchart:hover {\n",
              "    background-color: var(--hover-bg-color);\n",
              "    box-shadow: 0 1px 2px rgba(60, 64, 67, 0.3), 0 1px 3px 1px rgba(60, 64, 67, 0.15);\n",
              "    fill: var(--button-hover-fill-color);\n",
              "  }\n",
              "\n",
              "  .colab-df-quickchart-complete:disabled,\n",
              "  .colab-df-quickchart-complete:disabled:hover {\n",
              "    background-color: var(--disabled-bg-color);\n",
              "    fill: var(--disabled-fill-color);\n",
              "    box-shadow: none;\n",
              "  }\n",
              "\n",
              "  .colab-df-spinner {\n",
              "    border: 2px solid var(--fill-color);\n",
              "    border-color: transparent;\n",
              "    border-bottom-color: var(--fill-color);\n",
              "    animation:\n",
              "      spin 1s steps(1) infinite;\n",
              "  }\n",
              "\n",
              "  @keyframes spin {\n",
              "    0% {\n",
              "      border-color: transparent;\n",
              "      border-bottom-color: var(--fill-color);\n",
              "      border-left-color: var(--fill-color);\n",
              "    }\n",
              "    20% {\n",
              "      border-color: transparent;\n",
              "      border-left-color: var(--fill-color);\n",
              "      border-top-color: var(--fill-color);\n",
              "    }\n",
              "    30% {\n",
              "      border-color: transparent;\n",
              "      border-left-color: var(--fill-color);\n",
              "      border-top-color: var(--fill-color);\n",
              "      border-right-color: var(--fill-color);\n",
              "    }\n",
              "    40% {\n",
              "      border-color: transparent;\n",
              "      border-right-color: var(--fill-color);\n",
              "      border-top-color: var(--fill-color);\n",
              "    }\n",
              "    60% {\n",
              "      border-color: transparent;\n",
              "      border-right-color: var(--fill-color);\n",
              "    }\n",
              "    80% {\n",
              "      border-color: transparent;\n",
              "      border-right-color: var(--fill-color);\n",
              "      border-bottom-color: var(--fill-color);\n",
              "    }\n",
              "    90% {\n",
              "      border-color: transparent;\n",
              "      border-bottom-color: var(--fill-color);\n",
              "    }\n",
              "  }\n",
              "</style>\n",
              "\n",
              "  <script>\n",
              "    async function quickchart(key) {\n",
              "      const quickchartButtonEl =\n",
              "        document.querySelector('#' + key + ' button');\n",
              "      quickchartButtonEl.disabled = true;  // To prevent multiple clicks.\n",
              "      quickchartButtonEl.classList.add('colab-df-spinner');\n",
              "      try {\n",
              "        const charts = await google.colab.kernel.invokeFunction(\n",
              "            'suggestCharts', [key], {});\n",
              "      } catch (error) {\n",
              "        console.error('Error during call to suggestCharts:', error);\n",
              "      }\n",
              "      quickchartButtonEl.classList.remove('colab-df-spinner');\n",
              "      quickchartButtonEl.classList.add('colab-df-quickchart-complete');\n",
              "    }\n",
              "    (() => {\n",
              "      let quickchartButtonEl =\n",
              "        document.querySelector('#df-ccc314c2-f107-4698-b592-f2d6a46a818b button');\n",
              "      quickchartButtonEl.style.display =\n",
              "        google.colab.kernel.accessAllowed ? 'block' : 'none';\n",
              "    })();\n",
              "  </script>\n",
              "</div>\n",
              "    </div>\n",
              "  </div>\n"
            ],
            "text/plain": [
              "        Date     Close\n",
              "0 2014-09-17  0.004144\n",
              "1 2014-09-18  0.003655\n",
              "2 2014-09-19  0.003216\n",
              "3 2014-09-20  0.003425\n",
              "4 2014-09-21  0.003275"
            ]
          },
          "execution_count": 6,
          "metadata": {},
          "output_type": "execute_result"
        }
      ],
      "source": [
        "df.head()"
      ]
    },
    {
      "cell_type": "markdown",
      "metadata": {
        "id": "d2AoSDdNDQNJ"
      },
      "source": [
        "### changing the date field type to pandas datetype"
      ]
    },
    {
      "cell_type": "code",
      "execution_count": 7,
      "metadata": {
        "id": "0LCark1VDYl7"
      },
      "outputs": [],
      "source": [
        "df['Date'] = pd.to_datetime(df['Date'])"
      ]
    },
    {
      "cell_type": "code",
      "execution_count": 8,
      "metadata": {
        "colab": {
          "base_uri": "https://localhost:8080/",
          "height": 430
        },
        "id": "urxaI35o-Okj",
        "outputId": "7a56ae05-f0b9-4085-a64e-555cdafddc62"
      },
      "outputs": [
        {
          "data": {
            "image/png": "[encoded data removed]",
            "text/plain": [
              "<Figure size 640x480 with 1 Axes>"
            ]
          },
          "metadata": {},
          "output_type": "display_data"
        }
      ],
      "source": [
        "timeseries = df[[\"Close\"]].values.astype('float32')\n",
        "\n",
        "plt.plot(timeseries)\n",
        "plt.show()"
      ]
    },
    {
      "cell_type": "markdown",
      "metadata": {
        "id": "NhzvO1eUFqpS"
      },
      "source": [
        "### train-test split for time series"
      ]
    },
    {
      "cell_type": "code",
      "execution_count": null,
      "metadata": {
        "id": "_zf4T3qBFjY2"
      },
      "outputs": [],
      "source": [
        "\n",
        "train_size = int(len(timeseries) * 0.67)\n",
        "test_size = len(timeseries) - train_size\n",
        "\n",
        "train, test = timeseries[:train_size], timeseries[train_size:]\n"
      ]
    },
    {
      "cell_type": "code",
      "execution_count": null,
      "metadata": {
        "id": "yfsIi5TzE33H"
      },
      "outputs": [],
      "source": [
        "import torch\n",
        "\n",
        "def create_dataset(dataset, lookback):\n",
        "    \"\"\"Transform a time series into a prediction dataset\n",
        "\n",
        "    Args:\n",
        "        dataset: A numpy array of time series, first dimension is the time steps\n",
        "        lookback: Size of window for prediction\n",
        "    \"\"\"\n",
        "    X, y = [], []\n",
        "\n",
        "    for i in range(len(dataset)-lookback):\n",
        "        feature = dataset[i:i+lookback]\n",
        "        target = dataset[i+1:i+lookback+1]\n",
        "        X.append(feature)\n",
        "        y.append(target)\n",
        "    return torch.tensor(X), torch.tensor(y)"
      ]
    },
    {
      "cell_type": "code",
      "execution_count": null,
      "metadata": {
        "id": "bV2SsK2PUXx1"
      },
      "outputs": [],
      "source": [
        "def plot_predictions(best_model, X_train, y_train, X_test, y_test, timeseries, lookback, train_size):\n",
        "    with torch.no_grad():\n",
        "        # Calculate RMSE for training and test sets\n",
        "        y_pred_train = best_model(X_train)\n",
        "        y_pred_test = best_model(X_test)\n",
        "\n",
        "        # Create arrays to store the predicted values for plotting\n",
        "        train_plot = np.ones_like(timeseries) * np.nan\n",
        "        train_plot[lookback:train_size] = y_pred_train[:, -1, :]\n",
        "\n",
        "        test_plot = np.ones_like(timeseries) * np.nan\n",
        "        test_plot[train_size + lookback:len(timeseries)] = y_pred_test[:, -1, :]\n",
        "\n",
        "        # Plot the timeseries, training predictions (in red), and test predictions (in green)\n",
        "        plt.plot(timeseries, c='b')\n",
        "        plt.plot(train_plot, c='r')\n",
        "        plt.plot(test_plot, c='g')\n",
        "        plt.show()"
      ]
    },
    {
      "cell_type": "code",
      "execution_count": null,
      "metadata": {
        "id": "PRDbWBjZNDdV"
      },
      "outputs": [],
      "source": [
        "def train_and_save_best_model(model, optimizer, loss_fn, loader, X_train, y_train, X_test, y_test, n_epochs,best_model_key):\n",
        "    best_test_rmse = float('inf')  # Initialize a variable to keep track of the best test RMSE\n",
        "\n",
        "    for epoch in range(n_epochs):\n",
        "        model.train()\n",
        "        for X_batch, y_batch in loader:\n",
        "            y_pred = model(X_batch)\n",
        "\n",
        "            loss = loss_fn(y_pred, y_batch)\n",
        "            optimizer.zero_grad()\n",
        "            loss.backward()\n",
        "            optimizer.step()\n",
        "        # Validation\n",
        "        if epoch % 100 != 0:\n",
        "            continue\n",
        "        model.eval()\n",
        "        with torch.no_grad():\n",
        "            y_pred = model(X_train)\n",
        "            train_rmse = np.sqrt(loss_fn(y_pred, y_train))\n",
        "            y_pred = model(X_test)\n",
        "            test_rmse = np.sqrt(loss_fn(y_pred, y_test))\n",
        "            print(\"train RMSE %.4f, test RMSE %.4f\" % (train_rmse, test_rmse))\n",
        "            # Check if the current test RMSE is the best so far\n",
        "            if test_rmse < best_test_rmse:\n",
        "                print(test_rmse)\n",
        "                best_test_rmse = test_rmse\n",
        "                # Save the current model as the best model\n",
        "                torch.save(model.state_dict(),best_model_key )"
      ]
    },
    {
      "cell_type": "code",
      "execution_count": null,
      "metadata": {
        "id": "G6QeAs-zSn24"
      },
      "outputs": [],
      "source": [
        "def train_and_save_best_model_rnn(model, optimizer, loss_fn, loader, X_train, y_train, X_test, y_test, n_epochs,best_model_key):\n",
        "  best_test_rmse = float('inf')  # Initialize a variable to keep track of the best test RMSE\n",
        "\n",
        "\n",
        "  for epoch in range(n_epochs):\n",
        "      model.train()\n",
        "      for X_batch, y_batch in loader:\n",
        "          y_pred = model(X_batch.view(-1, lookback, 1).float())  # Adjust the input shape\n",
        "          loss = loss_fn(y_pred, y_batch.view(-1, 1).float())  # Adjust the target shape and data type\n",
        "          optimizer.zero_grad()\n",
        "          loss.backward()\n",
        "          optimizer.step()\n",
        "\n",
        "      # Validation\n",
        "      if epoch % 500 == 0:\n",
        "          model.eval()\n",
        "          with torch.no_grad():\n",
        "              y_pred = model(X_train.view(-1, lookback, 1).float())  # Adjust the input shape\n",
        "              train_rmse = torch.sqrt(loss_fn(y_pred, y_train.view(-1, 1).float()))  # Adjust the target shape and data type\n",
        "    # Adjust the target shape and data type\n",
        "              y_pred = model(X_test.view(-1, lookback, 1).float())  # Adjust the input shape\n",
        "              test_rmse = torch.sqrt(loss_fn(y_pred, y_test.view(-1, 1).float()))  # Adjust the target shape and data type\n",
        "\n",
        "              if test_rmse < best_test_rmse:\n",
        "                  best_test_rmse = test_rmse\n",
        "                  # Save the current model as the best model\n",
        "                  best_model = model.state_dict()\n"
      ]
    },
    {
      "cell_type": "markdown",
      "metadata": {
        "id": "3_37CXluFaWI"
      },
      "source": [
        "###creating a lookback window of size 3- best model with batch size 100"
      ]
    },
    {
      "cell_type": "code",
      "execution_count": null,
      "metadata": {
        "colab": {
          "base_uri": "https://localhost:8080/"
        },
        "id": "TEnsdlX4FMwM",
        "outputId": "db07563f-83d9-4ef7-e0dc-4fc9ea6df5f5"
      },
      "outputs": [
        {
          "name": "stdout",
          "output_type": "stream",
          "text": [
            "torch.Size([2234, 3, 1]) torch.Size([2234, 3, 1])\n",
            "torch.Size([1100, 3, 1]) torch.Size([1100, 3, 1])\n"
          ]
        }
      ],
      "source": [
        "lookback = 3\n",
        "X_train, y_train = create_dataset(train, lookback=lookback)\n",
        "X_test, y_test = create_dataset(test, lookback=lookback)\n",
        "print(X_train.shape, y_train.shape)\n",
        "print(X_test.shape, y_test.shape)"
      ]
    },
    {
      "cell_type": "markdown",
      "metadata": {
        "id": "XVKyk2uU1tzl"
      },
      "source": [
        "RNN Model"
      ]
    },
    {
      "cell_type": "code",
      "execution_count": null,
      "metadata": {
        "id": "Dg7KqESi1zgV"
      },
      "outputs": [],
      "source": [
        "# Define the RNN model\n",
        "class SimpleRNN(nn.Module):\n",
        "    def __init__(self):\n",
        "        super().__init__()\n",
        "        self.rnn = nn.RNN(input_size, hidden_size, batch_first=True)\n",
        "        self.fc = nn.Linear(hidden_size, output_size)\n",
        "        print(output_size)\n",
        "\n",
        "    def forward(self, x):\n",
        "        out, _ = self.rnn(x)\n",
        "       # out = self.fc(out[-1, 2, -1])  # Only use the last output\n",
        "        return out"
      ]
    },
    {
      "cell_type": "markdown",
      "metadata": {
        "id": "YS1lR8y1T2dc"
      },
      "source": [
        "Model with hidden_size: 50,n_epochs: 1000, lookback:3"
      ]
    },
    {
      "cell_type": "code",
      "execution_count": null,
      "metadata": {
        "colab": {
          "base_uri": "https://localhost:8080/"
        },
        "id": "f6w0x-7RfdQx",
        "outputId": "f4730b41-d48e-43cb-9cbf-1060c9a9baad"
      },
      "outputs": [
        {
          "name": "stdout",
          "output_type": "stream",
          "text": [
            "1\n",
            "train RMSE 0.1112, test RMSE 0.5236\n",
            "tensor(0.5236)\n"
          ]
        },
        {
          "name": "stderr",
          "output_type": "stream",
          "text": [
            "/usr/local/lib/python3.10/dist-packages/torch/nn/modules/loss.py:535: UserWarning: Using a target size (torch.Size([100, 3, 1])) that is different to the input size (torch.Size([100, 3, 50])). This will likely lead to incorrect results due to broadcasting. Please ensure they have the same size.\n",
            "  return F.mse_loss(input, target, reduction=self.reduction)\n",
            "/usr/local/lib/python3.10/dist-packages/torch/nn/modules/loss.py:535: UserWarning: Using a target size (torch.Size([32, 3, 1])) that is different to the input size (torch.Size([32, 3, 50])). This will likely lead to incorrect results due to broadcasting. Please ensure they have the same size.\n",
            "  return F.mse_loss(input, target, reduction=self.reduction)\n"
          ]
        },
        {
          "name": "stdout",
          "output_type": "stream",
          "text": [
            "train RMSE 0.0083, test RMSE 0.0998\n",
            "tensor(0.0998)\n",
            "train RMSE 0.0047, test RMSE 0.0747\n",
            "tensor(0.0747)\n",
            "train RMSE 0.0043, test RMSE 0.0713\n",
            "tensor(0.0713)\n",
            "train RMSE 0.0043, test RMSE 0.0726\n",
            "train RMSE 0.0044, test RMSE 0.0709\n",
            "tensor(0.0709)\n",
            "train RMSE 0.0045, test RMSE 0.0730\n",
            "train RMSE 0.0042, test RMSE 0.0721\n",
            "train RMSE 0.0043, test RMSE 0.0720\n",
            "train RMSE 0.0045, test RMSE 0.0708\n",
            "tensor(0.0708)\n"
          ]
        }
      ],
      "source": [
        "# Hyperparameters\n",
        "input_size = 1  # Number of features (only \"Close\" in this example)\n",
        "hidden_size = 50\n",
        "output_size = 1  # Predicting \"Close\" value\n",
        "learning_rate = 0.001\n",
        "\n",
        "# Create the model and define loss and optimizer\n",
        "model = SimpleRNN()\n",
        "optimizer = optim.Adam(model.parameters(),lr=learning_rate)\n",
        "loss_fn = nn.MSELoss()\n",
        "loader = data.DataLoader(data.TensorDataset(X_train, y_train), shuffle=True, batch_size=100)\n",
        "best_test_rmse = float('inf')  # Initialize a variable to keep track of the best test RMSE\n",
        "best_model = None  # Initialize a variable to store the best model\n",
        "n_epochs = 1000\n",
        "train_and_save_best_model(model, optimizer, loss_fn, loader, X_train, y_train, X_test, y_test, n_epochs,'best_rnn_model.pth')"
      ]
    },
    {
      "cell_type": "markdown",
      "metadata": {
        "id": "zn5RTFjUUftr"
      },
      "source": [
        "Model with hidden_size: 100,n_epochs: 2000, lookback:3"
      ]
    },
    {
      "cell_type": "code",
      "execution_count": null,
      "metadata": {
        "colab": {
          "base_uri": "https://localhost:8080/"
        },
        "id": "jSHqL8dui_rP",
        "outputId": "d2e3bb9f-e99e-4071-da3d-5ca27956a5c3"
      },
      "outputs": [
        {
          "name": "stdout",
          "output_type": "stream",
          "text": [
            "1\n",
            "train RMSE 0.0853, test RMSE 0.4971\n",
            "tensor(0.4971)\n"
          ]
        },
        {
          "name": "stderr",
          "output_type": "stream",
          "text": [
            "/usr/local/lib/python3.10/dist-packages/torch/nn/modules/loss.py:535: UserWarning: Using a target size (torch.Size([100, 3, 1])) that is different to the input size (torch.Size([100, 3, 100])). This will likely lead to incorrect results due to broadcasting. Please ensure they have the same size.\n",
            "  return F.mse_loss(input, target, reduction=self.reduction)\n",
            "/usr/local/lib/python3.10/dist-packages/torch/nn/modules/loss.py:535: UserWarning: Using a target size (torch.Size([32, 3, 1])) that is different to the input size (torch.Size([32, 3, 100])). This will likely lead to incorrect results due to broadcasting. Please ensure they have the same size.\n",
            "  return F.mse_loss(input, target, reduction=self.reduction)\n"
          ]
        },
        {
          "name": "stdout",
          "output_type": "stream",
          "text": [
            "train RMSE 0.0086, test RMSE 0.1034\n",
            "tensor(0.1034)\n",
            "train RMSE 0.0043, test RMSE 0.0746\n",
            "tensor(0.0746)\n",
            "train RMSE 0.0054, test RMSE 0.0749\n",
            "train RMSE 0.0043, test RMSE 0.0715\n",
            "tensor(0.0715)\n",
            "train RMSE 0.0048, test RMSE 0.0743\n",
            "train RMSE 0.0043, test RMSE 0.0721\n",
            "train RMSE 0.0044, test RMSE 0.0723\n",
            "train RMSE 0.0046, test RMSE 0.0744\n",
            "train RMSE 0.0043, test RMSE 0.0718\n"
          ]
        }
      ],
      "source": [
        "# Hyperparameters\n",
        "input_size = 1  # Number of features (only \"Close\" in this example)\n",
        "hidden_size = 100\n",
        "output_size = 1  # Predicting \"Close\" value\n",
        "num_epochs = 2000\n",
        "learning_rate = 0.001\n",
        "\n",
        "# Create the model and define loss and optimizer\n",
        "model = SimpleRNN()\n",
        "optimizer = optim.Adam(model.parameters(),lr=learning_rate)\n",
        "loss_fn = nn.MSELoss()\n",
        "loader = data.DataLoader(data.TensorDataset(X_train, y_train), shuffle=True, batch_size=100)\n",
        "best_test_rmse = float('inf')  # Initialize a variable to keep track of the best test RMSE\n",
        "best_model = None  # Initialize a variable to store the best model\n",
        "n_epochs = 1000\n",
        "train_and_save_best_model(model, optimizer, loss_fn, loader, X_train, y_train, X_test, y_test, n_epochs,'best_rnn_model.pth')"
      ]
    },
    {
      "cell_type": "code",
      "execution_count": null,
      "metadata": {
        "colab": {
          "base_uri": "https://localhost:8080/"
        },
        "id": "cPL5HbWlhK1Q",
        "outputId": "c9b6e100-fe12-4bb0-a05c-b235c0a0884d"
      },
      "outputs": [
        {
          "name": "stdout",
          "output_type": "stream",
          "text": [
            "torch.Size([2230, 7, 1]) torch.Size([2230, 7, 1])\n",
            "torch.Size([1096, 7, 1]) torch.Size([1096, 7, 1])\n"
          ]
        }
      ],
      "source": [
        "lookback = 7\n",
        "X_train, y_train = create_dataset(train, lookback=lookback)\n",
        "X_test, y_test = create_dataset(test, lookback=lookback)\n",
        "print(X_train.shape, y_train.shape)\n",
        "print(X_test.shape, y_test.shape)"
      ]
    },
    {
      "cell_type": "markdown",
      "metadata": {
        "id": "Udw9IufpUsLF"
      },
      "source": [
        "Model with hidden_size: 50,n_epochs: 1000, lookback:7"
      ]
    },
    {
      "cell_type": "code",
      "execution_count": null,
      "metadata": {
        "colab": {
          "base_uri": "https://localhost:8080/"
        },
        "id": "07rN_PPyUrjF",
        "outputId": "22ef61ae-27f2-4024-aace-be63921601a4"
      },
      "outputs": [
        {
          "name": "stdout",
          "output_type": "stream",
          "text": [
            "1\n",
            "train RMSE 0.0915, test RMSE 0.4800\n",
            "tensor(0.4800)\n"
          ]
        },
        {
          "name": "stderr",
          "output_type": "stream",
          "text": [
            "/usr/local/lib/python3.10/dist-packages/torch/nn/modules/loss.py:535: UserWarning: Using a target size (torch.Size([100, 7, 1])) that is different to the input size (torch.Size([100, 7, 50])). This will likely lead to incorrect results due to broadcasting. Please ensure they have the same size.\n",
            "  return F.mse_loss(input, target, reduction=self.reduction)\n",
            "/usr/local/lib/python3.10/dist-packages/torch/nn/modules/loss.py:535: UserWarning: Using a target size (torch.Size([30, 7, 1])) that is different to the input size (torch.Size([30, 7, 50])). This will likely lead to incorrect results due to broadcasting. Please ensure they have the same size.\n",
            "  return F.mse_loss(input, target, reduction=self.reduction)\n",
            "/usr/local/lib/python3.10/dist-packages/torch/nn/modules/loss.py:535: UserWarning: Using a target size (torch.Size([2230, 7, 1])) that is different to the input size (torch.Size([2230, 7, 50])). This will likely lead to incorrect results due to broadcasting. Please ensure they have the same size.\n",
            "  return F.mse_loss(input, target, reduction=self.reduction)\n",
            "/usr/local/lib/python3.10/dist-packages/torch/nn/modules/loss.py:535: UserWarning: Using a target size (torch.Size([1096, 7, 1])) that is different to the input size (torch.Size([1096, 7, 50])). This will likely lead to incorrect results due to broadcasting. Please ensure they have the same size.\n",
            "  return F.mse_loss(input, target, reduction=self.reduction)\n"
          ]
        },
        {
          "name": "stdout",
          "output_type": "stream",
          "text": [
            "train RMSE 0.0092, test RMSE 0.1039\n",
            "tensor(0.1039)\n",
            "train RMSE 0.0043, test RMSE 0.0743\n",
            "tensor(0.0743)\n",
            "train RMSE 0.0042, test RMSE 0.0717\n",
            "tensor(0.0717)\n",
            "train RMSE 0.0042, test RMSE 0.0716\n",
            "tensor(0.0716)\n",
            "train RMSE 0.0042, test RMSE 0.0721\n",
            "train RMSE 0.0044, test RMSE 0.0708\n",
            "tensor(0.0708)\n",
            "train RMSE 0.0042, test RMSE 0.0715\n",
            "train RMSE 0.0042, test RMSE 0.0717\n",
            "train RMSE 0.0047, test RMSE 0.0768\n"
          ]
        }
      ],
      "source": [
        "# Hyperparameters\n",
        "input_size = 1  # Number of features (only \"Close\" in this example)\n",
        "hidden_size = 50\n",
        "output_size = 1  # Predicting \"Close\" value\n",
        "learning_rate = 0.001\n",
        "\n",
        "# Create the model and define loss and optimizer\n",
        "model = SimpleRNN()\n",
        "optimizer = optim.Adam(model.parameters(),lr=learning_rate)\n",
        "loss_fn = nn.MSELoss()\n",
        "loader = data.DataLoader(data.TensorDataset(X_train, y_train), shuffle=True, batch_size=100)\n",
        "best_test_rmse = float('inf')  # Initialize a variable to keep track of the best test RMSE\n",
        "best_model = None  # Initialize a variable to store the best model\n",
        "n_epochs = 1000\n",
        "train_and_save_best_model(model, optimizer, loss_fn, loader, X_train, y_train, X_test, y_test, n_epochs,'best_rnn_model.pth')"
      ]
    },
    {
      "cell_type": "markdown",
      "metadata": {
        "id": "4H5yz7dncrH2"
      },
      "source": [
        "Model with hidden_size: 100,n_epochs: 2000, lookback:7"
      ]
    },
    {
      "cell_type": "code",
      "execution_count": null,
      "metadata": {
        "colab": {
          "base_uri": "https://localhost:8080/"
        },
        "id": "-sJHrevxcpm3",
        "outputId": "4ddbfb81-9608-478a-cafe-10dba8d9b003"
      },
      "outputs": [
        {
          "name": "stdout",
          "output_type": "stream",
          "text": [
            "1\n",
            "train RMSE 0.1375, test RMSE 0.5202\n",
            "tensor(0.5202)\n"
          ]
        },
        {
          "name": "stderr",
          "output_type": "stream",
          "text": [
            "/usr/local/lib/python3.10/dist-packages/torch/nn/modules/loss.py:535: UserWarning: Using a target size (torch.Size([1000, 7, 1])) that is different to the input size (torch.Size([1000, 7, 50])). This will likely lead to incorrect results due to broadcasting. Please ensure they have the same size.\n",
            "  return F.mse_loss(input, target, reduction=self.reduction)\n",
            "/usr/local/lib/python3.10/dist-packages/torch/nn/modules/loss.py:535: UserWarning: Using a target size (torch.Size([230, 7, 1])) that is different to the input size (torch.Size([230, 7, 50])). This will likely lead to incorrect results due to broadcasting. Please ensure they have the same size.\n",
            "  return F.mse_loss(input, target, reduction=self.reduction)\n"
          ]
        },
        {
          "name": "stdout",
          "output_type": "stream",
          "text": [
            "train RMSE 0.0280, test RMSE 0.2224\n",
            "tensor(0.2224)\n",
            "train RMSE 0.0218, test RMSE 0.1867\n",
            "tensor(0.1867)\n",
            "train RMSE 0.0183, test RMSE 0.1637\n",
            "tensor(0.1637)\n",
            "train RMSE 0.0158, test RMSE 0.1479\n",
            "tensor(0.1479)\n",
            "train RMSE 0.0137, test RMSE 0.1343\n",
            "tensor(0.1343)\n",
            "train RMSE 0.0118, test RMSE 0.1225\n",
            "tensor(0.1225)\n",
            "train RMSE 0.0101, test RMSE 0.1122\n",
            "tensor(0.1122)\n",
            "train RMSE 0.0086, test RMSE 0.1042\n",
            "tensor(0.1042)\n",
            "train RMSE 0.0073, test RMSE 0.0959\n",
            "tensor(0.0959)\n"
          ]
        }
      ],
      "source": [
        "# Hyperparameters\n",
        "input_size = 1  # Number of features (only \"Close\" in this example)\n",
        "hidden_size = 50\n",
        "output_size = 1  # Predicting \"Close\" value\n",
        "learning_rate = 0.001\n",
        "\n",
        "# Create the model and define loss and optimizer\n",
        "model = SimpleRNN()\n",
        "optimizer = optim.Adam(model.parameters(),lr=learning_rate)\n",
        "loss_fn = nn.MSELoss()\n",
        "loader = data.DataLoader(data.TensorDataset(X_train, y_train), shuffle=True, batch_size=1000)\n",
        "best_test_rmse = float('inf')  # Initialize a variable to keep track of the best test RMSE\n",
        "best_model = None  # Initialize a variable to store the best model\n",
        "n_epochs = 1000\n",
        "train_and_save_best_model(model, optimizer, loss_fn, loader, X_train, y_train, X_test, y_test, n_epochs,'best_rnn_model.pth')"
      ]
    },
    {
      "cell_type": "markdown",
      "metadata": {
        "id": "9qFsLnPdc0yf"
      },
      "source": [
        "Model with hidden_size: 1000,n_epochs: 2000, lookback:7"
      ]
    },
    {
      "cell_type": "code",
      "execution_count": null,
      "metadata": {
        "colab": {
          "base_uri": "https://localhost:8080/"
        },
        "id": "o4OWGO0sIrww",
        "outputId": "761aec1e-1c2d-480b-8651-2bb548dec17a"
      },
      "outputs": [
        {
          "name": "stdout",
          "output_type": "stream",
          "text": [
            "1\n"
          ]
        },
        {
          "data": {
            "text/plain": [
              "<All keys matched successfully>"
            ]
          },
          "execution_count": 70,
          "metadata": {},
          "output_type": "execute_result"
        }
      ],
      "source": [
        "best_model = SimpleRNN() # Create an instance of your model\n",
        "best_model.load_state_dict(torch.load('best_rnn_model.pth'))"
      ]
    },
    {
      "cell_type": "markdown",
      "metadata": {
        "id": "XDVxR8m8pbpL"
      },
      "source": [
        " **LSTM Model**"
      ]
    },
    {
      "cell_type": "code",
      "execution_count": null,
      "metadata": {
        "id": "neU8U-vY4oDs"
      },
      "outputs": [],
      "source": [
        "class Temperature_LSTM_Model(nn.Module):\n",
        "    def __init__(self):\n",
        "        super().__init__()\n",
        "        self.lstm = nn.LSTM(input_size=1, hidden_size=50, num_layers=1, batch_first=True)\n",
        "        self.linear = nn.Linear(50, 1)\n",
        "    def forward(self, x):\n",
        "        x, _ = self.lstm(x)\n",
        "        x = self.linear(x)\n",
        "        return x"
      ]
    },
    {
      "cell_type": "code",
      "execution_count": null,
      "metadata": {
        "id": "Ptd9vydxPHoO"
      },
      "outputs": [],
      "source": [
        "class Temperature_LSTM_Model_2(nn.Module):\n",
        "    def __init__(self):\n",
        "        super().__init__()\n",
        "        self.lstm = nn.LSTM(input_size=1, hidden_size=100, num_layers=1, batch_first=True)\n",
        "        self.linear = nn.Linear(100, 1)\n",
        "    def forward(self, x):\n",
        "        x, _ = self.lstm(x)\n",
        "        x = self.linear(x)\n",
        "        return x"
      ]
    },
    {
      "cell_type": "code",
      "execution_count": null,
      "metadata": {
        "id": "6_6wKi7JPEZi"
      },
      "outputs": [],
      "source": [
        "class Temperature_LSTM_Model_3(nn.Module):\n",
        "    def __init__(self):\n",
        "        super().__init__()\n",
        "        self.lstm = nn.LSTM(input_size=1, hidden_size=1000, num_layers=1, batch_first=True)\n",
        "        self.linear = nn.Linear(1000, 1)\n",
        "    def forward(self, x):\n",
        "        x, _ = self.lstm(x)\n",
        "        x = self.linear(x)\n",
        "        return x"
      ]
    },
    {
      "cell_type": "code",
      "execution_count": null,
      "metadata": {
        "colab": {
          "base_uri": "https://localhost:8080/"
        },
        "id": "z11PNue_PZ1h",
        "outputId": "eb599ac3-0c1f-4175-bd6b-133d8bbd6c0c"
      },
      "outputs": [
        {
          "name": "stdout",
          "output_type": "stream",
          "text": [
            "torch.Size([2234, 3, 1]) torch.Size([2234, 3, 1])\n",
            "torch.Size([1100, 3, 1]) torch.Size([1100, 3, 1])\n"
          ]
        }
      ],
      "source": [
        "lookback = 3\n",
        "X_train, y_train = create_dataset(train, lookback=lookback)\n",
        "X_test, y_test = create_dataset(test, lookback=lookback)\n",
        "print(X_train.shape, y_train.shape)\n",
        "print(X_test.shape, y_test.shape)"
      ]
    },
    {
      "cell_type": "markdown",
      "metadata": {
        "id": "hutkwMMwPSos"
      },
      "source": [
        "Model with hidden_size: 50,n_epochs: 1000, lookback:3"
      ]
    },
    {
      "cell_type": "code",
      "execution_count": null,
      "metadata": {
        "colab": {
          "base_uri": "https://localhost:8080/"
        },
        "id": "1ycFaykHoFyN",
        "outputId": "d46b3869-43db-429b-fc66-4a82c786277b"
      },
      "outputs": [
        {
          "name": "stdout",
          "output_type": "stream",
          "text": [
            "train RMSE 0.0698, test RMSE 0.4529\n",
            "tensor(0.4529)\n",
            "train RMSE 0.0042, test RMSE 0.0290\n",
            "tensor(0.0290)\n",
            "train RMSE 0.0044, test RMSE 0.0342\n",
            "train RMSE 0.0042, test RMSE 0.0363\n",
            "train RMSE 0.0045, test RMSE 0.0377\n",
            "train RMSE 0.0045, test RMSE 0.0377\n",
            "train RMSE 0.0042, test RMSE 0.0419\n",
            "train RMSE 0.0043, test RMSE 0.0412\n",
            "train RMSE 0.0044, test RMSE 0.0396\n",
            "train RMSE 0.0042, test RMSE 0.0434\n"
          ]
        }
      ],
      "source": [
        "model = Temperature_LSTM_Model()\n",
        "\n",
        "optimizer = optim.Adam(model.parameters())\n",
        "loss_fn = nn.MSELoss()\n",
        "loader = data.DataLoader(data.TensorDataset(X_train, y_train), shuffle=True, batch_size=100)\n",
        "best_test_rmse = float('inf')  # Initialize a variable to keep track of the best test RMSE\n",
        "best_model = None  # Initialize a variable to store the best model\n",
        "n_epochs=1000\n",
        "train_and_save_best_model(model, optimizer, loss_fn, loader, X_train, y_train, X_test, y_test, n_epochs,'best_model.pth')"
      ]
    },
    {
      "cell_type": "markdown",
      "metadata": {
        "id": "Q18gLOePLNXE"
      },
      "source": [
        "Model with hidden_size: 100,n_epochs: 2000, lookback window size:3"
      ]
    },
    {
      "cell_type": "code",
      "execution_count": null,
      "metadata": {
        "colab": {
          "base_uri": "https://localhost:8080/"
        },
        "id": "dRVvZUo_cXRI",
        "outputId": "6518ff80-63a4-4a49-8d6e-777c330d14b3"
      },
      "outputs": [
        {
          "name": "stdout",
          "output_type": "stream",
          "text": [
            "train RMSE 0.0693, test RMSE 0.4564\n",
            "tensor(0.4564)\n",
            "train RMSE 0.0043, test RMSE 0.0321\n",
            "tensor(0.0321)\n",
            "train RMSE 0.0043, test RMSE 0.0356\n",
            "train RMSE 0.0044, test RMSE 0.0317\n",
            "tensor(0.0317)\n",
            "train RMSE 0.0045, test RMSE 0.0372\n",
            "train RMSE 0.0044, test RMSE 0.0366\n",
            "train RMSE 0.0042, test RMSE 0.0391\n",
            "train RMSE 0.0043, test RMSE 0.0404\n",
            "train RMSE 0.0042, test RMSE 0.0391\n",
            "train RMSE 0.0043, test RMSE 0.0417\n",
            "train RMSE 0.0042, test RMSE 0.0444\n",
            "train RMSE 0.0042, test RMSE 0.0435\n",
            "train RMSE 0.0042, test RMSE 0.0427\n",
            "train RMSE 0.0042, test RMSE 0.0443\n",
            "train RMSE 0.0042, test RMSE 0.0426\n",
            "train RMSE 0.0043, test RMSE 0.0472\n",
            "train RMSE 0.0042, test RMSE 0.0460\n",
            "train RMSE 0.0042, test RMSE 0.0465\n",
            "train RMSE 0.0046, test RMSE 0.0477\n",
            "train RMSE 0.0042, test RMSE 0.0467\n"
          ]
        }
      ],
      "source": [
        "model = Temperature_LSTM_Model_2()\n",
        "\n",
        "optimizer = optim.Adam(model.parameters())\n",
        "loss_fn = nn.MSELoss()\n",
        "loader = data.DataLoader(data.TensorDataset(X_train, y_train), shuffle=True, batch_size=100) # Initialize a variable to keep track of the best test RMSE\n",
        "n_epochs=2000\n",
        "train_and_save_best_model(model, optimizer, loss_fn, loader, X_train, y_train, X_test, y_test, n_epochs,'best_model.pth')"
      ]
    },
    {
      "cell_type": "code",
      "execution_count": null,
      "metadata": {
        "colab": {
          "base_uri": "https://localhost:8080/"
        },
        "id": "Jv8pzTK9NhCQ",
        "outputId": "577f4094-a246-4f5c-b312-c568094e87f6"
      },
      "outputs": [
        {
          "name": "stdout",
          "output_type": "stream",
          "text": [
            "torch.Size([2230, 7, 1]) torch.Size([2230, 7, 1])\n",
            "torch.Size([1095, 7, 1]) torch.Size([1095, 7, 1])\n"
          ]
        }
      ],
      "source": [
        "lookback = 7\n",
        "X_train, y_train = create_dataset(train, lookback=lookback)\n",
        "X_test, y_test = create_dataset(test, lookback=lookback)\n",
        "print(X_train.shape, y_train.shape)\n",
        "print(X_test.shape, y_test.shape)"
      ]
    },
    {
      "cell_type": "markdown",
      "metadata": {
        "id": "96L4oz2CLczw"
      },
      "source": [
        "Model with hidden_size: 50,n_epochs: 1000, lookback window size:7"
      ]
    },
    {
      "cell_type": "code",
      "execution_count": null,
      "metadata": {
        "colab": {
          "base_uri": "https://localhost:8080/"
        },
        "id": "DDfYeOEhNk0E",
        "outputId": "df881e0b-377d-48ab-9041-2eca848ab098"
      },
      "outputs": [
        {
          "name": "stdout",
          "output_type": "stream",
          "text": [
            "train RMSE 0.0584, test RMSE 0.4471\n",
            "tensor(0.4471)\n",
            "train RMSE 0.0042, test RMSE 0.0343\n",
            "tensor(0.0343)\n",
            "train RMSE 0.0047, test RMSE 0.0371\n",
            "train RMSE 0.0044, test RMSE 0.0375\n",
            "train RMSE 0.0042, test RMSE 0.0390\n",
            "train RMSE 0.0042, test RMSE 0.0397\n",
            "train RMSE 0.0042, test RMSE 0.0442\n",
            "train RMSE 0.0042, test RMSE 0.0405\n",
            "train RMSE 0.0043, test RMSE 0.0430\n",
            "train RMSE 0.0042, test RMSE 0.0455\n"
          ]
        }
      ],
      "source": [
        "model = Temperature_LSTM_Model()\n",
        "\n",
        "optimizer = optim.Adam(model.parameters())\n",
        "loss_fn = nn.MSELoss()\n",
        "loader = data.DataLoader(data.TensorDataset(X_train, y_train), shuffle=True, batch_size=100)\n",
        "best_test_rmse = float('inf')  # Initialize a variable to keep track of the best test RMSE\n",
        "best_model = None  # Initialize a variable to store the best model\n",
        "n_epochs=1000\n",
        "train_and_save_best_model(model, optimizer, loss_fn, loader, X_train, y_train, X_test, y_test, n_epochs,'best_model.pth')"
      ]
    },
    {
      "cell_type": "markdown",
      "metadata": {
        "id": "tCYJ3gmJMDgO"
      },
      "source": [
        "Model with hidden_size: 100,n_epochs: 2000, lookback window size:7"
      ]
    },
    {
      "cell_type": "code",
      "execution_count": null,
      "metadata": {
        "colab": {
          "base_uri": "https://localhost:8080/"
        },
        "id": "_HWsf8Elf4h3",
        "outputId": "a300cd3f-381f-4109-c4ea-d66c6a40684b"
      },
      "outputs": [
        {
          "name": "stdout",
          "output_type": "stream",
          "text": [
            "train RMSE 0.0586, test RMSE 0.4472\n",
            "tensor(0.4472)\n",
            "train RMSE 0.0042, test RMSE 0.0346\n",
            "tensor(0.0346)\n",
            "train RMSE 0.0043, test RMSE 0.0343\n",
            "tensor(0.0343)\n",
            "train RMSE 0.0042, test RMSE 0.0374\n",
            "train RMSE 0.0043, test RMSE 0.0393\n",
            "train RMSE 0.0047, test RMSE 0.0352\n",
            "train RMSE 0.0043, test RMSE 0.0431\n",
            "train RMSE 0.0042, test RMSE 0.0414\n",
            "train RMSE 0.0043, test RMSE 0.0434\n",
            "train RMSE 0.0042, test RMSE 0.0457\n",
            "train RMSE 0.0042, test RMSE 0.0471\n",
            "train RMSE 0.0042, test RMSE 0.0497\n",
            "train RMSE 0.0043, test RMSE 0.0540\n",
            "train RMSE 0.0042, test RMSE 0.0556\n",
            "train RMSE 0.0042, test RMSE 0.0584\n",
            "train RMSE 0.0043, test RMSE 0.0611\n",
            "train RMSE 0.0043, test RMSE 0.0619\n",
            "train RMSE 0.0046, test RMSE 0.0634\n",
            "train RMSE 0.0043, test RMSE 0.0673\n",
            "train RMSE 0.0042, test RMSE 0.0728\n"
          ]
        }
      ],
      "source": [
        "model = Temperature_LSTM_Model_2()\n",
        "\n",
        "optimizer = optim.Adam(model.parameters())\n",
        "loss_fn = nn.MSELoss()\n",
        "loader = data.DataLoader(data.TensorDataset(X_train, y_train), shuffle=True, batch_size=100)\n",
        "best_test_rmse = float('inf')  # Initialize a variable to keep track of the best test RMSE\n",
        "best_model = None  # Initialize a variable to store the best model\n",
        "n_epochs=2000\n",
        "train_and_save_best_model(model, optimizer, loss_fn, loader, X_train, y_train, X_test, y_test, n_epochs,'best_model.pth')"
      ]
    },
    {
      "cell_type": "code",
      "execution_count": null,
      "metadata": {
        "colab": {
          "base_uri": "https://localhost:8080/"
        },
        "id": "871HxqqnwMYz",
        "outputId": "3b1c26f4-10d6-49e9-f8b2-af36fedd22db"
      },
      "outputs": [
        {
          "data": {
            "text/plain": [
              "<All keys matched successfully>"
            ]
          },
          "execution_count": 37,
          "metadata": {},
          "output_type": "execute_result"
        }
      ],
      "source": [
        "best_model = Temperature_LSTM_Model()  # Create an instance of your model\n",
        "best_model.load_state_dict(torch.load('best_model.pth'))"
      ]
    },
    {
      "cell_type": "markdown",
      "metadata": {
        "id": "ejpQvYGDMZrN"
      },
      "source": [
        "Model with hidden_size: 1000,n_epochs: 2000, lookback window size:7"
      ]
    },
    {
      "cell_type": "code",
      "execution_count": null,
      "metadata": {
        "colab": {
          "base_uri": "https://localhost:8080/"
        },
        "id": "CXBmR-GGMiEu",
        "outputId": "eb001fd0-493e-4944-d810-afe4810469d0"
      },
      "outputs": [
        {
          "name": "stdout",
          "output_type": "stream",
          "text": [
            "train RMSE 0.0533, test RMSE 0.4030\n",
            "tensor(0.4030)\n",
            "train RMSE 0.0048, test RMSE 0.0281\n",
            "tensor(0.0281)\n",
            "train RMSE 0.0042, test RMSE 0.0364\n",
            "train RMSE 0.0043, test RMSE 0.0326\n",
            "train RMSE 0.0043, test RMSE 0.0335\n",
            "train RMSE 0.0044, test RMSE 0.0313\n",
            "train RMSE 0.0043, test RMSE 0.0346\n",
            "train RMSE 0.0045, test RMSE 0.0401\n",
            "train RMSE 0.0044, test RMSE 0.0329\n",
            "train RMSE 0.0046, test RMSE 0.0319\n"
          ]
        }
      ],
      "source": [
        "model = Temperature_LSTM_Model_3()\n",
        "\n",
        "optimizer = optim.Adam(model.parameters())\n",
        "loss_fn = nn.MSELoss()\n",
        "loader = data.DataLoader(data.TensorDataset(X_train, y_train), shuffle=True, batch_size=100)\n",
        "best_test_rmse = float('inf')  # Initialize a variable to keep track of the best test RMSE\n",
        "best_model = None  # Initialize a variable to store the best model\n",
        "n_epochs=2000\n",
        "train_and_save_best_model(model, optimizer, loss_fn, loader, X_train, y_train, X_test, y_test, n_epochs,'best_model.pth')"
      ]
    },
    {
      "cell_type": "code",
      "execution_count": null,
      "metadata": {
        "id": "XwSN_gP5oT3d"
      },
      "outputs": [],
      "source": [
        "with torch.no_grad():\n",
        "        y_pred = best_model(X_train)\n",
        "        train_rmse = np.sqrt(loss_fn(y_pred, y_train))\n",
        "        y_pred = best_model(X_test)\n",
        "        test_rmse = np.sqrt(loss_fn(y_pred, y_test))\n",
        "        print(\"train RMSE %.4f, test RMSE %.4f\" % (train_rmse, test_rmse))"
      ]
    },
    {
      "cell_type": "code",
      "execution_count": null,
      "metadata": {
        "colab": {
          "base_uri": "https://localhost:8080/"
        },
        "id": "bEFbHQxkKnrN",
        "outputId": "b4af323b-38f5-426e-afb6-e7d9fe421f36"
      },
      "outputs": [
        {
          "data": {
            "text/plain": [
              "<All keys matched successfully>"
            ]
          },
          "execution_count": 28,
          "metadata": {},
          "output_type": "execute_result"
        }
      ],
      "source": [
        "best_model = Temperature_LSTM_Model()  # Create an instance of your model\n",
        "best_model.load_state_dict(torch.load('best_model.pth'))"
      ]
    },
    {
      "cell_type": "code",
      "execution_count": null,
      "metadata": {
        "colab": {
          "base_uri": "https://localhost:8080/",
          "height": 430
        },
        "id": "R6DsIsV0oY1L",
        "outputId": "237de418-7349-47ad-b896-620a511abbe7"
      },
      "outputs": [
        {
          "data": {
            "image/png": "[encoded data removed]",
            "text/plain": [
              "<Figure size 640x480 with 1 Axes>"
            ]
          },
          "metadata": {},
          "output_type": "display_data"
        }
      ],
      "source": [
        "plot_predictions(best_model, X_train, y_train, X_test, y_test, timeseries, lookback, train_size)"
      ]
    },
    {
      "cell_type": "markdown",
      "metadata": {
        "id": "8CXTg8Q6obID"
      },
      "source": [
        "**GRU MODEL**"
      ]
    },
    {
      "cell_type": "code",
      "execution_count": null,
      "metadata": {
        "id": "YgqC2NoOof3w"
      },
      "outputs": [],
      "source": [
        "class Temperature_GRUModel(nn.Module):\n",
        "    def __init__(self):\n",
        "        super().__init__()  # Corrected: Add parentheses here\n",
        "        self.gru = nn.GRU(input_size=1, hidden_size=50, num_layers=1, batch_first=True)\n",
        "        self.linear = nn.Linear(50, 1)\n",
        "\n",
        "    def forward(self, x):\n",
        "        x, _ = self.gru(x)\n",
        "        x = self.linear(x)\n",
        "        return x"
      ]
    },
    {
      "cell_type": "code",
      "execution_count": null,
      "metadata": {
        "id": "ML8YImlQOgAm"
      },
      "outputs": [],
      "source": [
        "class Temperature_GRUModel_2(nn.Module):\n",
        "    def __init__(self):\n",
        "        super().__init__()  # Corrected: Add parentheses here\n",
        "        self.gru = nn.GRU(input_size=1, hidden_size=100, num_layers=1, batch_first=True)\n",
        "        self.linear = nn.Linear(100, 1)\n",
        "\n",
        "    def forward(self, x):\n",
        "        x, _ = self.gru(x)\n",
        "        x = self.linear(x)\n",
        "        return x"
      ]
    },
    {
      "cell_type": "code",
      "execution_count": null,
      "metadata": {
        "id": "OxuKobd0OiB4"
      },
      "outputs": [],
      "source": [
        "class Temperature_GRUModel_3(nn.Module):\n",
        "    def __init__(self):\n",
        "        super().__init__()  # Corrected: Add parentheses here\n",
        "        self.gru = nn.GRU(input_size=1, hidden_size=1000, num_layers=1, batch_first=True)\n",
        "        self.linear = nn.Linear(1000, 1)\n",
        "\n",
        "    def forward(self, x):\n",
        "        x, _ = self.gru(x)\n",
        "        x = self.linear(x)\n",
        "        return x"
      ]
    },
    {
      "cell_type": "code",
      "execution_count": null,
      "metadata": {
        "colab": {
          "base_uri": "https://localhost:8080/"
        },
        "id": "fyQjMo12PdAS",
        "outputId": "14545014-bb18-4c90-fee7-fb3981e83dc4"
      },
      "outputs": [
        {
          "name": "stdout",
          "output_type": "stream",
          "text": [
            "torch.Size([2234, 3, 1]) torch.Size([2234, 3, 1])\n",
            "torch.Size([1100, 3, 1]) torch.Size([1100, 3, 1])\n"
          ]
        }
      ],
      "source": [
        "lookback = 3\n",
        "X_train, y_train = create_dataset(train, lookback=lookback)\n",
        "X_test, y_test = create_dataset(test, lookback=lookback)\n",
        "print(X_train.shape, y_train.shape)\n",
        "print(X_test.shape, y_test.shape)"
      ]
    },
    {
      "cell_type": "markdown",
      "metadata": {
        "id": "Tj2N6TL6PxGw"
      },
      "source": [
        "Model with hidden_size: 50,n_epochs: 1000, lookback:3"
      ]
    },
    {
      "cell_type": "code",
      "execution_count": null,
      "metadata": {
        "colab": {
          "base_uri": "https://localhost:8080/"
        },
        "id": "5wJFDp2Goina",
        "outputId": "06e0c4b7-71fb-4efe-889c-fbec0ae06369"
      },
      "outputs": [
        {
          "name": "stdout",
          "output_type": "stream",
          "text": [
            "train RMSE 0.0619, test RMSE 0.4463\n",
            "tensor(0.4463)\n",
            "train RMSE 0.0043, test RMSE 0.0263\n",
            "tensor(0.0263)\n",
            "train RMSE 0.0043, test RMSE 0.0337\n",
            "train RMSE 0.0042, test RMSE 0.0357\n",
            "train RMSE 0.0045, test RMSE 0.0381\n",
            "train RMSE 0.0043, test RMSE 0.0408\n",
            "train RMSE 0.0043, test RMSE 0.0387\n",
            "train RMSE 0.0046, test RMSE 0.0373\n",
            "train RMSE 0.0042, test RMSE 0.0429\n",
            "train RMSE 0.0043, test RMSE 0.0420\n"
          ]
        }
      ],
      "source": [
        "model = Temperature_GRUModel()\n",
        "\n",
        "optimizer = optim.Adam(model.parameters())\n",
        "loss_fn = nn.MSELoss()\n",
        "loader = data.DataLoader(data.TensorDataset(X_train, y_train), shuffle=True, batch_size=100)\n",
        "best_test_rmse = float('inf')  # Initialize a variable to keep track of the best test RMSE\n",
        "best_model = None  # Initialize a variable to store the best model\n",
        "n_epochs=1000\n",
        "train_and_save_best_model(model, optimizer, loss_fn, loader, X_train, y_train, X_test, y_test, n_epochs,'best_model_gru.pth')"
      ]
    },
    {
      "cell_type": "markdown",
      "metadata": {
        "id": "xudvSUSAQY81"
      },
      "source": [
        "Model with hidden_size: 100,n_epochs: 2000, lookback window size:3"
      ]
    },
    {
      "cell_type": "code",
      "execution_count": null,
      "metadata": {
        "colab": {
          "base_uri": "https://localhost:8080/"
        },
        "id": "3VX0fiDeQdz_",
        "outputId": "f1b969dc-3196-4bee-ca22-d465b1926426"
      },
      "outputs": [
        {
          "name": "stdout",
          "output_type": "stream",
          "text": [
            "train RMSE 0.0538, test RMSE 0.4011\n",
            "tensor(0.4011)\n",
            "train RMSE 0.0043, test RMSE 0.0264\n",
            "tensor(0.0264)\n",
            "train RMSE 0.0042, test RMSE 0.0323\n",
            "train RMSE 0.0044, test RMSE 0.0365\n",
            "train RMSE 0.0044, test RMSE 0.0363\n",
            "train RMSE 0.0042, test RMSE 0.0358\n",
            "train RMSE 0.0042, test RMSE 0.0359\n",
            "train RMSE 0.0045, test RMSE 0.0375\n",
            "train RMSE 0.0042, test RMSE 0.0368\n",
            "train RMSE 0.0042, test RMSE 0.0399\n",
            "train RMSE 0.0043, test RMSE 0.0425\n",
            "train RMSE 0.0043, test RMSE 0.0412\n",
            "train RMSE 0.0043, test RMSE 0.0371\n",
            "train RMSE 0.0043, test RMSE 0.0450\n",
            "train RMSE 0.0043, test RMSE 0.0418\n",
            "train RMSE 0.0042, test RMSE 0.0476\n",
            "train RMSE 0.0042, test RMSE 0.0470\n",
            "train RMSE 0.0045, test RMSE 0.0491\n",
            "train RMSE 0.0042, test RMSE 0.0555\n",
            "train RMSE 0.0042, test RMSE 0.0579\n"
          ]
        }
      ],
      "source": [
        "model = Temperature_GRUModel_2()\n",
        "\n",
        "optimizer = optim.Adam(model.parameters())\n",
        "loss_fn = nn.MSELoss()\n",
        "loader = data.DataLoader(data.TensorDataset(X_train, y_train), shuffle=True, batch_size=100)\n",
        "best_test_rmse = float('inf')  # Initialize a variable to keep track of the best test RMSE\n",
        "best_model = None  # Initialize a variable to store the best model\n",
        "n_epochs=2000\n",
        "train_and_save_best_model(model, optimizer, loss_fn, loader, X_train, y_train, X_test, y_test, n_epochs,'best_model_gru.pth')"
      ]
    },
    {
      "cell_type": "code",
      "execution_count": null,
      "metadata": {
        "colab": {
          "base_uri": "https://localhost:8080/"
        },
        "id": "msaorJ1MRUm8",
        "outputId": "b432abed-534a-49b9-b494-1bc3bd98a040"
      },
      "outputs": [
        {
          "name": "stdout",
          "output_type": "stream",
          "text": [
            "torch.Size([2228, 7, 1]) torch.Size([2228, 7, 1])\n",
            "torch.Size([1095, 7, 1]) torch.Size([1095, 7, 1])\n"
          ]
        }
      ],
      "source": [
        "lookback = 7\n",
        "X_train, y_train = create_dataset(train, lookback=lookback)\n",
        "X_test, y_test = create_dataset(test, lookback=lookback)\n",
        "print(X_train.shape, y_train.shape)\n",
        "print(X_test.shape, y_test.shape)"
      ]
    },
    {
      "cell_type": "markdown",
      "metadata": {
        "id": "Bt783wohRb8u"
      },
      "source": [
        "Model with hidden_size: 50,n_epochs: 1000, lookback:7"
      ]
    },
    {
      "cell_type": "code",
      "execution_count": null,
      "metadata": {
        "colab": {
          "base_uri": "https://localhost:8080/"
        },
        "id": "R0xwQnh0Rp2C",
        "outputId": "91977472-9bbc-4319-a051-d291c5297d35"
      },
      "outputs": [
        {
          "name": "stdout",
          "output_type": "stream",
          "text": [
            "train RMSE 0.0631, test RMSE 0.4386\n",
            "tensor(0.4386)\n",
            "train RMSE 0.0042, test RMSE 0.0250\n",
            "tensor(0.0250)\n",
            "train RMSE 0.0043, test RMSE 0.0312\n",
            "train RMSE 0.0043, test RMSE 0.0362\n",
            "train RMSE 0.0043, test RMSE 0.0365\n",
            "train RMSE 0.0042, test RMSE 0.0341\n",
            "train RMSE 0.0042, test RMSE 0.0367\n",
            "train RMSE 0.0043, test RMSE 0.0344\n",
            "train RMSE 0.0043, test RMSE 0.0352\n",
            "train RMSE 0.0042, test RMSE 0.0360\n"
          ]
        }
      ],
      "source": [
        "model = Temperature_GRUModel()\n",
        "\n",
        "optimizer = optim.Adam(model.parameters())\n",
        "loss_fn = nn.MSELoss()\n",
        "loader = data.DataLoader(data.TensorDataset(X_train, y_train), shuffle=True, batch_size=100)\n",
        "best_test_rmse = float('inf')  # Initialize a variable to keep track of the best test RMSE\n",
        "best_model = None  # Initialize a variable to store the best model\n",
        "n_epochs=1000\n",
        "train_and_save_best_model(model, optimizer, loss_fn, loader, X_train, y_train, X_test, y_test, n_epochs,'best_model_gru.pth')"
      ]
    },
    {
      "cell_type": "markdown",
      "metadata": {
        "id": "HIo7_2a_SAcQ"
      },
      "source": []
    },
    {
      "cell_type": "markdown",
      "metadata": {
        "id": "7nzoYae6SEU3"
      },
      "source": [
        "Model with hidden_size: 100,n_epochs: 2000, lookback window size:3"
      ]
    },
    {
      "cell_type": "code",
      "execution_count": null,
      "metadata": {
        "colab": {
          "base_uri": "https://localhost:8080/"
        },
        "id": "_WszBwLWR-vj",
        "outputId": "bf635598-2ce3-4cc2-88d5-e129d79df5c5"
      },
      "outputs": [
        {
          "name": "stdout",
          "output_type": "stream",
          "text": [
            "train RMSE 0.0574, test RMSE 0.4294\n",
            "tensor(0.4294)\n",
            "train RMSE 0.0044, test RMSE 0.0258\n",
            "tensor(0.0258)\n",
            "train RMSE 0.0045, test RMSE 0.0314\n",
            "train RMSE 0.0043, test RMSE 0.0320\n",
            "train RMSE 0.0043, test RMSE 0.0339\n",
            "train RMSE 0.0042, test RMSE 0.0370\n",
            "train RMSE 0.0042, test RMSE 0.0365\n",
            "train RMSE 0.0045, test RMSE 0.0407\n",
            "train RMSE 0.0043, test RMSE 0.0370\n",
            "train RMSE 0.0043, test RMSE 0.0395\n",
            "train RMSE 0.0043, test RMSE 0.0364\n",
            "train RMSE 0.0042, test RMSE 0.0381\n",
            "train RMSE 0.0042, test RMSE 0.0385\n",
            "train RMSE 0.0043, test RMSE 0.0400\n",
            "train RMSE 0.0043, test RMSE 0.0432\n",
            "train RMSE 0.0042, test RMSE 0.0452\n",
            "train RMSE 0.0042, test RMSE 0.0465\n",
            "train RMSE 0.0043, test RMSE 0.0484\n",
            "train RMSE 0.0043, test RMSE 0.0481\n",
            "train RMSE 0.0042, test RMSE 0.0572\n"
          ]
        }
      ],
      "source": [
        "model = Temperature_GRUModel_2()\n",
        "\n",
        "optimizer = optim.Adam(model.parameters())\n",
        "loss_fn = nn.MSELoss()\n",
        "loader = data.DataLoader(data.TensorDataset(X_train, y_train), shuffle=True, batch_size=100)\n",
        "best_test_rmse = float('inf')  # Initialize a variable to keep track of the best test RMSE\n",
        "best_model = None  # Initialize a variable to store the best model\n",
        "n_epochs=2000\n",
        "train_and_save_best_model(model, optimizer, loss_fn, loader, X_train, y_train, X_test, y_test, n_epochs,'best_model_gru.pth')"
      ]
    },
    {
      "cell_type": "markdown",
      "metadata": {
        "id": "1WIFQLW-SZok"
      },
      "source": [
        "Model with hidden_size: 1000,n_epochs: 2000, lookback window size:7"
      ]
    },
    {
      "cell_type": "code",
      "execution_count": null,
      "metadata": {
        "colab": {
          "background_save": true,
          "base_uri": "https://localhost:8080/"
        },
        "id": "nzq_KbLBSbTb",
        "outputId": "17fbf39f-a480-4a94-9753-452b540a7ffc"
      },
      "outputs": [
        {
          "name": "stdout",
          "output_type": "stream",
          "text": [
            "train RMSE 0.0416, test RMSE 0.2795\n",
            "tensor(0.2795)\n",
            "train RMSE 0.0043, test RMSE 0.0337\n",
            "tensor(0.0337)\n",
            "train RMSE 0.0043, test RMSE 0.0366\n",
            "train RMSE 0.0042, test RMSE 0.0296\n",
            "tensor(0.0296)\n",
            "train RMSE 0.0043, test RMSE 0.0350\n",
            "train RMSE 0.0043, test RMSE 0.0395\n",
            "train RMSE 0.0043, test RMSE 0.0391\n",
            "train RMSE 0.0043, test RMSE 0.0337\n",
            "train RMSE 0.0045, test RMSE 0.0402\n",
            "train RMSE 0.0043, test RMSE 0.0390\n",
            "train RMSE 0.0043, test RMSE 0.0391\n",
            "train RMSE 0.0042, test RMSE 0.0434\n",
            "train RMSE 0.0043, test RMSE 0.0459\n",
            "train RMSE 0.0042, test RMSE 0.0458\n",
            "train RMSE 0.0043, test RMSE 0.0583\n",
            "train RMSE 0.0043, test RMSE 0.0601\n",
            "train RMSE 0.0042, test RMSE 0.0762\n",
            "train RMSE 0.0042, test RMSE 0.0912\n",
            "train RMSE 0.0042, test RMSE 0.0997\n",
            "train RMSE 0.0042, test RMSE 0.1028\n"
          ]
        }
      ],
      "source": [
        "model = Temperature_GRUModel_3()\n",
        "\n",
        "optimizer = optim.Adam(model.parameters())\n",
        "loss_fn = nn.MSELoss()\n",
        "loader = data.DataLoader(data.TensorDataset(X_train, y_train), shuffle=True, batch_size=100)\n",
        "best_test_rmse = float('inf')  # Initialize a variable to keep track of the best test RMSE\n",
        "best_model = None  # Initialize a variable to store the best model\n",
        "n_epochs=2000\n",
        "train_and_save_best_model(model, optimizer, loss_fn, loader, X_train, y_train, X_test, y_test, n_epochs,'best_model_gru.pth')"
      ]
    },
    {
      "cell_type": "code",
      "execution_count": null,
      "metadata": {
        "colab": {
          "base_uri": "https://localhost:8080/"
        },
        "id": "AxaUOBk80LFe",
        "outputId": "e0f29143-54ab-4fb6-a189-5fe9c4b50815"
      },
      "outputs": [
        {
          "data": {
            "text/plain": [
              "<All keys matched successfully>"
            ]
          },
          "execution_count": 33,
          "metadata": {},
          "output_type": "execute_result"
        }
      ],
      "source": [
        "best_model = Temperature_GRUModel()  # Create an instance of your model\n",
        "best_model.load_state_dict(torch.load('best_model_gru.pth'))"
      ]
    },
    {
      "cell_type": "code",
      "execution_count": null,
      "metadata": {
        "colab": {
          "base_uri": "https://localhost:8080/",
          "height": 430
        },
        "id": "4jpvmyZKozVk",
        "outputId": "d6e1b311-3e39-48ae-ed78-a7d65ce4937b"
      },
      "outputs": [
        {
          "data": {
            "image/png": "[encoded data removed]",
            "text/plain": [
              "<Figure size 640x480 with 1 Axes>"
            ]
          },
          "metadata": {},
          "output_type": "display_data"
        }
      ],
      "source": [
        "plot_predictions(best_model, X_train, y_train, X_test, y_test, timeseries, lookback, train_size)"
      ]
    },
    {
      "cell_type": "markdown",
      "metadata": {
        "id": "qyLWQ2BwNycA"
      },
      "source": [
        "### **RESULTS:**"
      ]
    },
    {
      "cell_type": "markdown",
      "metadata": {
        "id": "d8nnRVfVOIqP"
      },
      "source": [
        "the best RNN model has the test rmse score of 0.0708\n",
        "\n",
        "the best LSTM model has the test rmse score of 0.0282\n",
        "\n",
        "the best GRU model has the test rmse score of 0.0296\n"
      ]
    },
    {
      "cell_type": "markdown",
      "metadata": {},
      "source": [
        "REFERENCES:\n",
        "\n",
        "(CHAT GPT)https://chat.openai.com/"
      ]
    }
  ],
  "metadata": {
    "colab": {
      "provenance": []
    },
    "kernelspec": {
      "display_name": "Python 3",
      "name": "python3"
    },
    "language_info": {
      "name": "python"
    }
  },
  "nbformat": 4,
  "nbformat_minor": 0
}
